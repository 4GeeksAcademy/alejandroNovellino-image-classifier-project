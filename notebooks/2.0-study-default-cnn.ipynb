{
 "cells": [
  {
   "metadata": {
    "ExecuteTime": {
     "end_time": "2025-04-24T13:56:37.301067Z",
     "start_time": "2025-04-24T13:56:37.297770Z"
    }
   },
   "cell_type": "code",
   "source": "import tensorflow as tf",
   "id": "68dbd7b9f8ecc3f",
   "outputs": [],
   "execution_count": 21
  },
  {
   "metadata": {},
   "cell_type": "markdown",
   "source": "# Load the data",
   "id": "bc6ced73a8a9b437"
  },
  {
   "cell_type": "code",
   "id": "0a0823a7-882d-407f-bba6-e6dd01771ba2",
   "metadata": {
    "ExecuteTime": {
     "end_time": "2025-04-24T13:56:37.571429Z",
     "start_time": "2025-04-24T13:56:37.358994Z"
    }
   },
   "source": [
    "import os\n",
    "\n",
    "\n",
    "data_dir = os.path.abspath('/mnt/f/Courses/4GeeksAcademy/DataScience/DeliverableExercises/alejandroNovellino-image-classifier-project/data/raw/test')\n",
    "\n",
    "# set the image width and height\n",
    "img_width = 160\n",
    "img_height = 160\n",
    "\n",
    "batch_size = 16\n",
    "\n",
    "# train dataset\n",
    "test_ds = tf.keras.utils.image_dataset_from_directory(\n",
    "    data_dir,\n",
    "    seed=42,\n",
    "    image_size=(img_height, img_width),\n",
    "    batch_size=batch_size,\n",
    "    labels='inferred',\n",
    "    label_mode='categorical'\n",
    ")"
   ],
   "outputs": [
    {
     "name": "stdout",
     "output_type": "stream",
     "text": [
      "Found 140 files belonging to 2 classes.\n"
     ]
    }
   ],
   "execution_count": 22
  },
  {
   "metadata": {
    "ExecuteTime": {
     "end_time": "2025-04-24T13:56:37.607400Z",
     "start_time": "2025-04-24T13:56:37.603410Z"
    }
   },
   "cell_type": "code",
   "source": "test_ds",
   "id": "414ad18afa09ef47",
   "outputs": [
    {
     "data": {
      "text/plain": [
       "<_PrefetchDataset element_spec=(TensorSpec(shape=(None, 160, 160, 3), dtype=tf.float32, name=None), TensorSpec(shape=(None, 2), dtype=tf.float32, name=None))>"
      ]
     },
     "execution_count": 23,
     "metadata": {},
     "output_type": "execute_result"
    }
   ],
   "execution_count": 23
  },
  {
   "metadata": {
    "ExecuteTime": {
     "end_time": "2025-04-24T13:56:37.761214Z",
     "start_time": "2025-04-24T13:56:37.757841Z"
    }
   },
   "cell_type": "code",
   "source": [
    "class_names = test_ds.class_names\n",
    "print(class_names)"
   ],
   "id": "77a7abdef738d478",
   "outputs": [
    {
     "name": "stdout",
     "output_type": "stream",
     "text": [
      "['cat', 'dog']\n"
     ]
    }
   ],
   "execution_count": 24
  },
  {
   "metadata": {},
   "cell_type": "markdown",
   "source": "We have two labels the **cat** and **dog** labels.",
   "id": "789d55be03f635ff"
  },
  {
   "metadata": {},
   "cell_type": "markdown",
   "source": "# Configure the dataset for performance",
   "id": "b8dcd676dba15357"
  },
  {
   "metadata": {},
   "cell_type": "markdown",
   "source": [
    "We are going to use buffered prefetching, so we can yield data from disk without having I/O become blocking. The two important methods we should use when loading data are:\n",
    "\n",
    "- **Dataset.cache** keeps the images in memory after they're loaded off disk during the first epoch. This will ensure the dataset does not become a bottleneck while training your model. If your dataset is too large to fit into memory, you can also use this method to create a performant on-disk cache.\n",
    "- **Dataset.prefetch** overlaps data preprocessing and model execution while training.\n",
    "Interested readers can learn more about both methods, as well as how to cache data to disk in the Prefetching section of the Better performance with the tf.data API guide."
   ],
   "id": "503edf5bcb44e94a"
  },
  {
   "metadata": {
    "ExecuteTime": {
     "end_time": "2025-04-24T13:56:37.830564Z",
     "start_time": "2025-04-24T13:56:37.826275Z"
    }
   },
   "cell_type": "code",
   "source": "train_ds = test_ds.cache().prefetch(buffer_size=tf.data.AUTOTUNE)",
   "id": "8b14f122b43cec4a",
   "outputs": [],
   "execution_count": 25
  },
  {
   "metadata": {},
   "cell_type": "markdown",
   "source": "The model itself does the normalization, so no work on the data must be done.",
   "id": "a28856f91f629970"
  },
  {
   "metadata": {},
   "cell_type": "markdown",
   "source": "# Now let's load the model",
   "id": "40e685ba99566c47"
  },
  {
   "metadata": {
    "ExecuteTime": {
     "end_time": "2025-04-24T13:56:43.147157Z",
     "start_time": "2025-04-24T13:56:37.902347Z"
    }
   },
   "cell_type": "code",
   "source": [
    "import keras\n",
    "\n",
    "model_dir = os.path.abspath('/mnt/f/Courses/4GeeksAcademy/DataScience/DeliverableExercises/alejandroNovellino-image-classifier-project/models/base_model.keras')\n",
    "\n",
    "model = keras.saving.load_model(model_dir)"
   ],
   "id": "6e546e2742271272",
   "outputs": [],
   "execution_count": 26
  },
  {
   "metadata": {},
   "cell_type": "markdown",
   "source": "# Analyze the results",
   "id": "9a6cf622024ab112"
  },
  {
   "metadata": {
    "ExecuteTime": {
     "end_time": "2025-04-24T13:56:44.323670Z",
     "start_time": "2025-04-24T13:56:43.160974Z"
    }
   },
   "cell_type": "code",
   "source": [
    "# make the prediction\n",
    "y_pred = model.predict(test_ds, verbose=0)"
   ],
   "id": "fefb0e81b681e299",
   "outputs": [],
   "execution_count": 27
  },
  {
   "metadata": {
    "ExecuteTime": {
     "end_time": "2025-04-24T13:56:44.340074Z",
     "start_time": "2025-04-24T13:56:44.335265Z"
    }
   },
   "cell_type": "code",
   "source": "y_pred",
   "id": "567eb6b12398d370",
   "outputs": [
    {
     "data": {
      "text/plain": [
       "array([[0.5010699, 0.4989301],\n",
       "       [0.5010699, 0.4989301],\n",
       "       [0.5010699, 0.4989301],\n",
       "       [0.5010699, 0.4989301],\n",
       "       [0.5010699, 0.4989301],\n",
       "       [0.5010699, 0.4989301],\n",
       "       [0.5010699, 0.4989301],\n",
       "       [0.5010699, 0.4989301],\n",
       "       [0.5010699, 0.4989301],\n",
       "       [0.5010699, 0.4989301],\n",
       "       [0.5010699, 0.4989301],\n",
       "       [0.5010699, 0.4989301],\n",
       "       [0.5010699, 0.4989301],\n",
       "       [0.5010699, 0.4989301],\n",
       "       [0.5010699, 0.4989301],\n",
       "       [0.5010699, 0.4989301],\n",
       "       [0.5010699, 0.4989301],\n",
       "       [0.5010699, 0.4989301],\n",
       "       [0.5010699, 0.4989301],\n",
       "       [0.5010699, 0.4989301],\n",
       "       [0.5010699, 0.4989301],\n",
       "       [0.5010699, 0.4989301],\n",
       "       [0.5010699, 0.4989301],\n",
       "       [0.5010699, 0.4989301],\n",
       "       [0.5010699, 0.4989301],\n",
       "       [0.5010699, 0.4989301],\n",
       "       [0.5010699, 0.4989301],\n",
       "       [0.5010699, 0.4989301],\n",
       "       [0.5010699, 0.4989301],\n",
       "       [0.5010699, 0.4989301],\n",
       "       [0.5010699, 0.4989301],\n",
       "       [0.5010699, 0.4989301],\n",
       "       [0.5010699, 0.4989301],\n",
       "       [0.5010699, 0.4989301],\n",
       "       [0.5010699, 0.4989301],\n",
       "       [0.5010699, 0.4989301],\n",
       "       [0.5010699, 0.4989301],\n",
       "       [0.5010699, 0.4989301],\n",
       "       [0.5010699, 0.4989301],\n",
       "       [0.5010699, 0.4989301],\n",
       "       [0.5010699, 0.4989301],\n",
       "       [0.5010699, 0.4989301],\n",
       "       [0.5010699, 0.4989301],\n",
       "       [0.5010699, 0.4989301],\n",
       "       [0.5010699, 0.4989301],\n",
       "       [0.5010699, 0.4989301],\n",
       "       [0.5010699, 0.4989301],\n",
       "       [0.5010699, 0.4989301],\n",
       "       [0.5010699, 0.4989301],\n",
       "       [0.5010699, 0.4989301],\n",
       "       [0.5010699, 0.4989301],\n",
       "       [0.5010699, 0.4989301],\n",
       "       [0.5010699, 0.4989301],\n",
       "       [0.5010699, 0.4989301],\n",
       "       [0.5010699, 0.4989301],\n",
       "       [0.5010699, 0.4989301],\n",
       "       [0.5010699, 0.4989301],\n",
       "       [0.5010699, 0.4989301],\n",
       "       [0.5010699, 0.4989301],\n",
       "       [0.5010699, 0.4989301],\n",
       "       [0.5010699, 0.4989301],\n",
       "       [0.5010699, 0.4989301],\n",
       "       [0.5010699, 0.4989301],\n",
       "       [0.5010699, 0.4989301],\n",
       "       [0.5010699, 0.4989301],\n",
       "       [0.5010699, 0.4989301],\n",
       "       [0.5010699, 0.4989301],\n",
       "       [0.5010699, 0.4989301],\n",
       "       [0.5010699, 0.4989301],\n",
       "       [0.5010699, 0.4989301],\n",
       "       [0.5010699, 0.4989301],\n",
       "       [0.5010699, 0.4989301],\n",
       "       [0.5010699, 0.4989301],\n",
       "       [0.5010699, 0.4989301],\n",
       "       [0.5010699, 0.4989301],\n",
       "       [0.5010699, 0.4989301],\n",
       "       [0.5010699, 0.4989301],\n",
       "       [0.5010699, 0.4989301],\n",
       "       [0.5010699, 0.4989301],\n",
       "       [0.5010699, 0.4989301],\n",
       "       [0.5010699, 0.4989301],\n",
       "       [0.5010699, 0.4989301],\n",
       "       [0.5010699, 0.4989301],\n",
       "       [0.5010699, 0.4989301],\n",
       "       [0.5010699, 0.4989301],\n",
       "       [0.5010699, 0.4989301],\n",
       "       [0.5010699, 0.4989301],\n",
       "       [0.5010699, 0.4989301],\n",
       "       [0.5010699, 0.4989301],\n",
       "       [0.5010699, 0.4989301],\n",
       "       [0.5010699, 0.4989301],\n",
       "       [0.5010699, 0.4989301],\n",
       "       [0.5010699, 0.4989301],\n",
       "       [0.5010699, 0.4989301],\n",
       "       [0.5010699, 0.4989301],\n",
       "       [0.5010699, 0.4989301],\n",
       "       [0.5010699, 0.4989301],\n",
       "       [0.5010699, 0.4989301],\n",
       "       [0.5010699, 0.4989301],\n",
       "       [0.5010699, 0.4989301],\n",
       "       [0.5010699, 0.4989301],\n",
       "       [0.5010699, 0.4989301],\n",
       "       [0.5010699, 0.4989301],\n",
       "       [0.5010699, 0.4989301],\n",
       "       [0.5010699, 0.4989301],\n",
       "       [0.5010699, 0.4989301],\n",
       "       [0.5010699, 0.4989301],\n",
       "       [0.5010699, 0.4989301],\n",
       "       [0.5010699, 0.4989301],\n",
       "       [0.5010699, 0.4989301],\n",
       "       [0.5010699, 0.4989301],\n",
       "       [0.5010699, 0.4989301],\n",
       "       [0.5010699, 0.4989301],\n",
       "       [0.5010699, 0.4989301],\n",
       "       [0.5010699, 0.4989301],\n",
       "       [0.5010699, 0.4989301],\n",
       "       [0.5010699, 0.4989301],\n",
       "       [0.5010699, 0.4989301],\n",
       "       [0.5010699, 0.4989301],\n",
       "       [0.5010699, 0.4989301],\n",
       "       [0.5010699, 0.4989301],\n",
       "       [0.5010699, 0.4989301],\n",
       "       [0.5010699, 0.4989301],\n",
       "       [0.5010699, 0.4989301],\n",
       "       [0.5010699, 0.4989301],\n",
       "       [0.5010699, 0.4989301],\n",
       "       [0.5010699, 0.4989301],\n",
       "       [0.5010699, 0.4989301],\n",
       "       [0.5010699, 0.4989301],\n",
       "       [0.5010699, 0.4989301],\n",
       "       [0.5010699, 0.4989301],\n",
       "       [0.5010699, 0.4989301],\n",
       "       [0.5010699, 0.4989301],\n",
       "       [0.5010699, 0.4989301],\n",
       "       [0.5010699, 0.4989301],\n",
       "       [0.5010699, 0.4989301],\n",
       "       [0.5010699, 0.4989301],\n",
       "       [0.5010699, 0.4989301],\n",
       "       [0.5010699, 0.4989301],\n",
       "       [0.5010699, 0.4989301]], dtype=float32)"
      ]
     },
     "execution_count": 28,
     "metadata": {},
     "output_type": "execute_result"
    }
   ],
   "execution_count": 28
  },
  {
   "metadata": {
    "ExecuteTime": {
     "end_time": "2025-04-24T13:56:44.474430Z",
     "start_time": "2025-04-24T13:56:44.470370Z"
    }
   },
   "cell_type": "code",
   "source": [
    "import pandas as pd\n",
    "\n",
    "# create a dataframe with the predictions\n",
    "y_pred_df = pd.DataFrame(y_pred)\n",
    "y_pred_df['predicted_class'] = y_pred_df.idxmax(axis=1)\n",
    "y_pred_df['predicted_proba'] = y_pred_df[[0, 1]].max(axis=1)"
   ],
   "id": "c3cba73dadca04ab",
   "outputs": [],
   "execution_count": 29
  },
  {
   "metadata": {
    "ExecuteTime": {
     "end_time": "2025-04-24T13:56:44.607571Z",
     "start_time": "2025-04-24T13:56:44.601342Z"
    }
   },
   "cell_type": "code",
   "source": "y_pred_df",
   "id": "f32bca5a1cdcbf2",
   "outputs": [
    {
     "data": {
      "text/plain": [
       "           0        1  predicted_class  predicted_proba\n",
       "0    0.50107  0.49893                0          0.50107\n",
       "1    0.50107  0.49893                0          0.50107\n",
       "2    0.50107  0.49893                0          0.50107\n",
       "3    0.50107  0.49893                0          0.50107\n",
       "4    0.50107  0.49893                0          0.50107\n",
       "..       ...      ...              ...              ...\n",
       "135  0.50107  0.49893                0          0.50107\n",
       "136  0.50107  0.49893                0          0.50107\n",
       "137  0.50107  0.49893                0          0.50107\n",
       "138  0.50107  0.49893                0          0.50107\n",
       "139  0.50107  0.49893                0          0.50107\n",
       "\n",
       "[140 rows x 4 columns]"
      ],
      "text/html": [
       "<div>\n",
       "<style scoped>\n",
       "    .dataframe tbody tr th:only-of-type {\n",
       "        vertical-align: middle;\n",
       "    }\n",
       "\n",
       "    .dataframe tbody tr th {\n",
       "        vertical-align: top;\n",
       "    }\n",
       "\n",
       "    .dataframe thead th {\n",
       "        text-align: right;\n",
       "    }\n",
       "</style>\n",
       "<table border=\"1\" class=\"dataframe\">\n",
       "  <thead>\n",
       "    <tr style=\"text-align: right;\">\n",
       "      <th></th>\n",
       "      <th>0</th>\n",
       "      <th>1</th>\n",
       "      <th>predicted_class</th>\n",
       "      <th>predicted_proba</th>\n",
       "    </tr>\n",
       "  </thead>\n",
       "  <tbody>\n",
       "    <tr>\n",
       "      <th>0</th>\n",
       "      <td>0.50107</td>\n",
       "      <td>0.49893</td>\n",
       "      <td>0</td>\n",
       "      <td>0.50107</td>\n",
       "    </tr>\n",
       "    <tr>\n",
       "      <th>1</th>\n",
       "      <td>0.50107</td>\n",
       "      <td>0.49893</td>\n",
       "      <td>0</td>\n",
       "      <td>0.50107</td>\n",
       "    </tr>\n",
       "    <tr>\n",
       "      <th>2</th>\n",
       "      <td>0.50107</td>\n",
       "      <td>0.49893</td>\n",
       "      <td>0</td>\n",
       "      <td>0.50107</td>\n",
       "    </tr>\n",
       "    <tr>\n",
       "      <th>3</th>\n",
       "      <td>0.50107</td>\n",
       "      <td>0.49893</td>\n",
       "      <td>0</td>\n",
       "      <td>0.50107</td>\n",
       "    </tr>\n",
       "    <tr>\n",
       "      <th>4</th>\n",
       "      <td>0.50107</td>\n",
       "      <td>0.49893</td>\n",
       "      <td>0</td>\n",
       "      <td>0.50107</td>\n",
       "    </tr>\n",
       "    <tr>\n",
       "      <th>...</th>\n",
       "      <td>...</td>\n",
       "      <td>...</td>\n",
       "      <td>...</td>\n",
       "      <td>...</td>\n",
       "    </tr>\n",
       "    <tr>\n",
       "      <th>135</th>\n",
       "      <td>0.50107</td>\n",
       "      <td>0.49893</td>\n",
       "      <td>0</td>\n",
       "      <td>0.50107</td>\n",
       "    </tr>\n",
       "    <tr>\n",
       "      <th>136</th>\n",
       "      <td>0.50107</td>\n",
       "      <td>0.49893</td>\n",
       "      <td>0</td>\n",
       "      <td>0.50107</td>\n",
       "    </tr>\n",
       "    <tr>\n",
       "      <th>137</th>\n",
       "      <td>0.50107</td>\n",
       "      <td>0.49893</td>\n",
       "      <td>0</td>\n",
       "      <td>0.50107</td>\n",
       "    </tr>\n",
       "    <tr>\n",
       "      <th>138</th>\n",
       "      <td>0.50107</td>\n",
       "      <td>0.49893</td>\n",
       "      <td>0</td>\n",
       "      <td>0.50107</td>\n",
       "    </tr>\n",
       "    <tr>\n",
       "      <th>139</th>\n",
       "      <td>0.50107</td>\n",
       "      <td>0.49893</td>\n",
       "      <td>0</td>\n",
       "      <td>0.50107</td>\n",
       "    </tr>\n",
       "  </tbody>\n",
       "</table>\n",
       "<p>140 rows × 4 columns</p>\n",
       "</div>"
      ]
     },
     "execution_count": 30,
     "metadata": {},
     "output_type": "execute_result"
    }
   ],
   "execution_count": 30
  },
  {
   "metadata": {},
   "cell_type": "markdown",
   "source": "# Metrics",
   "id": "7d326dcf102cc2c3"
  },
  {
   "metadata": {},
   "cell_type": "markdown",
   "source": "We can calculate the accuracy of the CNN with the model.evaluate method. Or/and we can see the results wht sckit",
   "id": "316864dcc827ea32"
  },
  {
   "metadata": {
    "ExecuteTime": {
     "end_time": "2025-04-24T13:56:46.010955Z",
     "start_time": "2025-04-24T13:56:44.663056Z"
    }
   },
   "cell_type": "code",
   "source": [
    "_, accuracy = model.evaluate(test_ds)\n",
    "\n",
    "print(f\"Test accuracy: {round(accuracy * 100, 2)}%\")"
   ],
   "id": "7b11184d73c6b2d1",
   "outputs": [
    {
     "name": "stdout",
     "output_type": "stream",
     "text": [
      "\u001B[1m9/9\u001B[0m \u001B[32m━━━━━━━━━━━━━━━━━━━━\u001B[0m\u001B[37m\u001B[0m \u001B[1m1s\u001B[0m 77ms/step - accuracy: 0.4998 - loss: 0.6932\n",
      "Test accuracy: 50.0%\n"
     ]
    }
   ],
   "execution_count": 31
  },
  {
   "metadata": {},
   "cell_type": "markdown",
   "source": "# Clear the memory",
   "id": "66a6c800ab65ce71"
  },
  {
   "metadata": {
    "ExecuteTime": {
     "end_time": "2025-04-24T13:56:46.183324Z",
     "start_time": "2025-04-24T13:56:46.040248Z"
    }
   },
   "cell_type": "code",
   "source": "keras.backend.clear_session()",
   "id": "3dc71c20cd4cd157",
   "outputs": [],
   "execution_count": 32
  }
 ],
 "metadata": {
  "kernelspec": {
   "display_name": "Python 3 (ipykernel)",
   "language": "python",
   "name": "python3"
  },
  "language_info": {
   "codemirror_mode": {
    "name": "ipython",
    "version": 3
   },
   "file_extension": ".py",
   "mimetype": "text/x-python",
   "name": "python",
   "nbconvert_exporter": "python",
   "pygments_lexer": "ipython3",
   "version": "3.11.12"
  }
 },
 "nbformat": 4,
 "nbformat_minor": 5
}
