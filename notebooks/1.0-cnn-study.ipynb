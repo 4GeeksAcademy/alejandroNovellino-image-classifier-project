{
  "cells": [
    {
      "cell_type": "markdown",
      "id": "987468de-036c-43f8-aef9-acef8fe9f972",
      "metadata": {
        "id": "987468de-036c-43f8-aef9-acef8fe9f972"
      },
      "source": [
        "# Image classifier"
      ]
    },
    {
      "cell_type": "code",
      "id": "b0cc857b-dc54-4078-bd1b-933280a8c0f1",
      "metadata": {
        "id": "b0cc857b-dc54-4078-bd1b-933280a8c0f1"
      },
      "source": [
        "import keras\n",
        "import numpy as np"
      ],
      "outputs": [],
      "execution_count": 1
    },
    {
      "metadata": {
        "id": "bc6ced73a8a9b437"
      },
      "cell_type": "markdown",
      "source": [
        "# Load the data"
      ],
      "id": "bc6ced73a8a9b437"
    },
    {
      "cell_type": "code",
      "id": "0a0823a7-882d-407f-bba6-e6dd01771ba2",
      "metadata": {
        "colab": {
          "base_uri": "https://localhost:8080/"
        },
        "id": "0a0823a7-882d-407f-bba6-e6dd01771ba2",
        "outputId": "96148de0-82a1-448b-cc43-c270e5be2928"
      },
      "source": [
        "# get the data from the keras datasets\n",
        "(X_train_full, y_train_full), (X_test_full, y_test_full) = keras.datasets.cifar10.load_data()"
      ],
      "outputs": [
        {
          "output_type": "stream",
          "name": "stdout",
          "text": [
            "Downloading data from https://www.cs.toronto.edu/~kriz/cifar-10-python.tar.gz\n",
            "\u001b[1m170498071/170498071\u001b[0m \u001b[32m━━━━━━━━━━━━━━━━━━━━\u001b[0m\u001b[37m\u001b[0m \u001b[1m13s\u001b[0m 0us/step\n"
          ]
        }
      ],
      "execution_count": 2
    },
    {
      "metadata": {
        "id": "42de4918fc2c2774"
      },
      "cell_type": "markdown",
      "source": [
        "| Label | Class          |\n",
        "|-------|----------------|\n",
        "| 0     | airplane ✈️    |\n",
        "| 1     | automobile 🚗  |\n",
        "| 2     | bird 🐦        |\n",
        "| 3     | cat 🐱         |\n",
        "| 4     | deer 🦌        |\n",
        "| 5     | dog 🐶         |\n",
        "| 6     | frog 🐸        |\n",
        "| 7     | horse 🐴       |\n",
        "| 8     | ship 🚢        |\n",
        "| 9     | truck 🚚       |\n",
        "\n",
        "We are going to work classifying airplanes and ships."
      ],
      "id": "42de4918fc2c2774"
    },
    {
      "cell_type": "code",
      "source": [
        "# flatten the arrays to work\n",
        "y_train_full = y_train_full.flatten()\n",
        "y_test_full = y_test_full.flatten()"
      ],
      "metadata": {
        "id": "2_RzVKnDRgTA"
      },
      "id": "2_RzVKnDRgTA",
      "execution_count": 3,
      "outputs": []
    },
    {
      "cell_type": "markdown",
      "source": [
        "Get the indexes of the images we are going to work with"
      ],
      "metadata": {
        "id": "FVVSQIh8TnIj"
      },
      "id": "FVVSQIh8TnIj"
    },
    {
      "cell_type": "code",
      "source": [
        "# get the indices of the elements that are plains or ships\n",
        "train_indexes = np.where((y_train_full == 0) | (y_train_full == 8))[0]\n",
        "test_indexes = np.where((y_test_full == 0) | (y_test_full == 8))[0]"
      ],
      "metadata": {
        "id": "FSAvQkvLTLc1"
      },
      "id": "FSAvQkvLTLc1",
      "execution_count": 4,
      "outputs": []
    },
    {
      "cell_type": "markdown",
      "source": [
        "Now stay with the relevant images in train and test"
      ],
      "metadata": {
        "id": "ic-qRaf-U2dA"
      },
      "id": "ic-qRaf-U2dA"
    },
    {
      "cell_type": "code",
      "source": [
        "# get the images\n",
        "X_train = X_train_full[train_indexes]\n",
        "X_test = X_test_full[test_indexes]\n",
        "\n",
        "y_train = y_train_full[train_indexes]\n",
        "y_test = y_test_full[test_indexes]"
      ],
      "metadata": {
        "id": "Rx-1oydVU7Sh"
      },
      "id": "Rx-1oydVU7Sh",
      "execution_count": 5,
      "outputs": []
    },
    {
      "metadata": {
        "id": "3d65497cfca3a929"
      },
      "cell_type": "markdown",
      "source": [
        "# Visualize the data"
      ],
      "id": "3d65497cfca3a929"
    },
    {
      "cell_type": "code",
      "source": [
        "import matplotlib.pyplot as plt\n",
        "\n",
        "\n",
        "class_names = ['airplane', 'automobile', 'bird', 'cat', 'deer',\n",
        "               'dog', 'frog', 'horse', 'ship', 'truck']\n",
        "\n",
        "# show the first 5 images\n",
        "plt.figure(figsize=(15, 2))\n",
        "\n",
        "for i, idx in enumerate(train_indexes[:10]):\n",
        "    plt.subplot(1, 10, i + 1)\n",
        "    plt.imshow(X_train[idx])\n",
        "    label = class_names[y_train[idx]]\n",
        "    plt.title(label)\n",
        "    plt.axis('off')\n",
        "\n",
        "plt.tight_layout()\n",
        "plt.show()"
      ],
      "metadata": {
        "colab": {
          "base_uri": "https://localhost:8080/",
          "height": 192
        },
        "id": "ziAD0KBcVtQI",
        "outputId": "d81e5033-70b2-45cd-ca88-796cd093c7af"
      },
      "id": "ziAD0KBcVtQI",
      "execution_count": 6,
      "outputs": [
        {
          "output_type": "display_data",
          "data": {
            "text/plain": [
              "<Figure size 1500x200 with 10 Axes>"
            ],
            "image/png": "[encoded data removed]"
          },
          "metadata": {}
        }
      ]
    },
    {
      "cell_type": "code",
      "source": [
        "# show the image info\n",
        "X_train[0]"
      ],
      "metadata": {
        "colab": {
          "base_uri": "https://localhost:8080/",
          "height": 72
        },
        "id": "4MCrVOQ9ZZ-B",
        "outputId": "972a1359-89f7-47b0-a7f9-4771f1c925e5"
      },
      "id": "4MCrVOQ9ZZ-B",
      "execution_count": 7,
      "outputs": [
        {
          "output_type": "execute_result",
          "data": {
            "text/plain": [
              "array([[[134, 186, 223],\n",
              "        [131, 184, 220],\n",
              "        [128, 182, 218],\n",
              "        ...,\n",
              "        [127, 181, 222],\n",
              "        [127, 181, 222],\n",
              "        [128, 182, 223]],\n",
              "\n",
              "       [[133, 189, 228],\n",
              "        [129, 186, 224],\n",
              "        [128, 186, 224],\n",
              "        ...,\n",
              "        [127, 183, 224],\n",
              "        [127, 183, 224],\n",
              "        [128, 184, 225]],\n",
              "\n",
              "       [[128, 185, 226],\n",
              "        [127, 182, 223],\n",
              "        [128, 182, 223],\n",
              "        ...,\n",
              "        [126, 181, 222],\n",
              "        [126, 181, 222],\n",
              "        [126, 180, 221]],\n",
              "\n",
              "       ...,\n",
              "\n",
              "       [[174, 208, 235],\n",
              "        [171, 206, 229],\n",
              "        [155, 189, 216],\n",
              "        ...,\n",
              "        [ 27,  94, 136],\n",
              "        [ 29,  96, 137],\n",
              "        [ 28,  94, 136]],\n",
              "\n",
              "       [[194, 221, 244],\n",
              "        [189, 215, 239],\n",
              "        [159, 196, 225],\n",
              "        ...,\n",
              "        [ 30,  95, 138],\n",
              "        [ 30,  96, 139],\n",
              "        [ 30,  95, 140]],\n",
              "\n",
              "       [[193, 217, 237],\n",
              "        [181, 208, 230],\n",
              "        [168, 201, 227],\n",
              "        ...,\n",
              "        [ 31,  94, 136],\n",
              "        [ 32,  94, 137],\n",
              "        [ 32,  94, 138]]], dtype=uint8)"
            ],
            "text/html": [
              "<style>\n",
              "      .ndarray_repr .ndarray_raw_data {\n",
              "        display: none;\n",
              "      }\n",
              "      .ndarray_repr.show_array .ndarray_raw_data {\n",
              "        display: block;\n",
              "      }\n",
              "      .ndarray_repr.show_array .ndarray_image_preview {\n",
              "        display: none;\n",
              "      }\n",
              "      </style>\n",
              "      <div id=\"id-8050e7fe-b322-4ffb-9769-0917041aa25c\" class=\"ndarray_repr\"><pre>ndarray (32, 32, 3) <button style=\"padding: 0 2px;\">show data</button></pre><img src=\"data:image/png;base64,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\" class=\"ndarray_image_preview\" /><pre class=\"ndarray_raw_data\">array([[[134, 186, 223],\n",
              "        [131, 184, 220],\n",
              "        [128, 182, 218],\n",
              "        ...,\n",
              "        [127, 181, 222],\n",
              "        [127, 181, 222],\n",
              "        [128, 182, 223]],\n",
              "\n",
              "       [[133, 189, 228],\n",
              "        [129, 186, 224],\n",
              "        [128, 186, 224],\n",
              "        ...,\n",
              "        [127, 183, 224],\n",
              "        [127, 183, 224],\n",
              "        [128, 184, 225]],\n",
              "\n",
              "       [[128, 185, 226],\n",
              "        [127, 182, 223],\n",
              "        [128, 182, 223],\n",
              "        ...,\n",
              "        [126, 181, 222],\n",
              "        [126, 181, 222],\n",
              "        [126, 180, 221]],\n",
              "\n",
              "       ...,\n",
              "\n",
              "       [[174, 208, 235],\n",
              "        [171, 206, 229],\n",
              "        [155, 189, 216],\n",
              "        ...,\n",
              "        [ 27,  94, 136],\n",
              "        [ 29,  96, 137],\n",
              "        [ 28,  94, 136]],\n",
              "\n",
              "       [[194, 221, 244],\n",
              "        [189, 215, 239],\n",
              "        [159, 196, 225],\n",
              "        ...,\n",
              "        [ 30,  95, 138],\n",
              "        [ 30,  96, 139],\n",
              "        [ 30,  95, 140]],\n",
              "\n",
              "       [[193, 217, 237],\n",
              "        [181, 208, 230],\n",
              "        [168, 201, 227],\n",
              "        ...,\n",
              "        [ 31,  94, 136],\n",
              "        [ 32,  94, 137],\n",
              "        [ 32,  94, 138]]], dtype=uint8)</pre></div><script>\n",
              "      (() => {\n",
              "      const titles = ['show data', 'hide data'];\n",
              "      let index = 0\n",
              "      document.querySelector('#id-8050e7fe-b322-4ffb-9769-0917041aa25c button').onclick = (e) => {\n",
              "        document.querySelector('#id-8050e7fe-b322-4ffb-9769-0917041aa25c').classList.toggle('show_array');\n",
              "        index = (++index) % 2;\n",
              "        document.querySelector('#id-8050e7fe-b322-4ffb-9769-0917041aa25c button').textContent = titles[index];\n",
              "        e.preventDefault();\n",
              "        e.stopPropagation();\n",
              "      }\n",
              "      })();\n",
              "    </script>"
            ]
          },
          "metadata": {},
          "execution_count": 7
        }
      ]
    },
    {
      "metadata": {
        "id": "f4eee178cbcdceff"
      },
      "cell_type": "markdown",
      "source": [
        "We can see that the image shape is (32, 32, 3)."
      ],
      "id": "f4eee178cbcdceff"
    },
    {
      "cell_type": "code",
      "source": [
        "# let's create the image shapes\n",
        "img_height = 32\n",
        "img_width = 32"
      ],
      "metadata": {
        "id": "m6zzXFV2aPiF"
      },
      "id": "m6zzXFV2aPiF",
      "execution_count": 8,
      "outputs": []
    },
    {
      "cell_type": "code",
      "source": [
        "print(f\"X_train shape: {X_train.shape}, y_train shape: {y_train.shape}\")"
      ],
      "metadata": {
        "id": "_u_qaqrIhxcx",
        "outputId": "f56800e1-c57c-4456-c038-8ff6ef29170d",
        "colab": {
          "base_uri": "https://localhost:8080/"
        }
      },
      "id": "_u_qaqrIhxcx",
      "execution_count": 9,
      "outputs": [
        {
          "output_type": "stream",
          "name": "stdout",
          "text": [
            "X_train shape: (10000, 32, 32, 3), y_train shape: (10000,)\n"
          ]
        }
      ]
    },
    {
      "cell_type": "markdown",
      "source": [
        "# Recategorize the data"
      ],
      "metadata": {
        "id": "4PHxF822akZh"
      },
      "id": "4PHxF822akZh"
    },
    {
      "cell_type": "code",
      "source": [
        "# change the labels to:\n",
        "# - airplane = 0\n",
        "# - ship = 1\n",
        "y_train = (y_train == 8).astype(np.uint8) # true 1 (ship), false en 0 (airplane).\n",
        "y_test = (y_test == 8).astype(np.uint8)"
      ],
      "metadata": {
        "id": "c7g5c4jeam-r"
      },
      "id": "c7g5c4jeam-r",
      "execution_count": 10,
      "outputs": []
    },
    {
      "cell_type": "code",
      "source": [
        "import seaborn as sns\n",
        "import pandas as pd\n",
        "\n",
        "\n",
        "sns.countplot(pd.DataFrame(y_train, columns=['class']), x=\"class\")\n",
        "pd.DataFrame(y_train, columns=['class']).value_counts()"
      ],
      "metadata": {
        "id": "FxkvmmjbbqDS",
        "outputId": "31aad30e-794f-4a4a-e5d6-2dbc62162091",
        "colab": {
          "base_uri": "https://localhost:8080/",
          "height": 610
        }
      },
      "id": "FxkvmmjbbqDS",
      "execution_count": 11,
      "outputs": [
        {
          "output_type": "execute_result",
          "data": {
            "text/plain": [
              "class\n",
              "0        5000\n",
              "1        5000\n",
              "Name: count, dtype: int64"
            ],
            "text/html": [
              "<div>\n",
              "<style scoped>\n",
              "    .dataframe tbody tr th:only-of-type {\n",
              "        vertical-align: middle;\n",
              "    }\n",
              "\n",
              "    .dataframe tbody tr th {\n",
              "        vertical-align: top;\n",
              "    }\n",
              "\n",
              "    .dataframe thead th {\n",
              "        text-align: right;\n",
              "    }\n",
              "</style>\n",
              "<table border=\"1\" class=\"dataframe\">\n",
              "  <thead>\n",
              "    <tr style=\"text-align: right;\">\n",
              "      <th></th>\n",
              "      <th>count</th>\n",
              "    </tr>\n",
              "    <tr>\n",
              "      <th>class</th>\n",
              "      <th></th>\n",
              "    </tr>\n",
              "  </thead>\n",
              "  <tbody>\n",
              "    <tr>\n",
              "      <th>0</th>\n",
              "      <td>5000</td>\n",
              "    </tr>\n",
              "    <tr>\n",
              "      <th>1</th>\n",
              "      <td>5000</td>\n",
              "    </tr>\n",
              "  </tbody>\n",
              "</table>\n",
              "</div><br><label><b>dtype:</b> int64</label>"
            ]
          },
          "metadata": {},
          "execution_count": 11
        },
        {
          "output_type": "display_data",
          "data": {
            "text/plain": [
              "<Figure size 640x480 with 1 Axes>"
            ],
            "image/png": "[encoded data removed]"
          },
          "metadata": {}
        }
      ]
    },
    {
      "metadata": {
        "id": "40f85ba7ec2fe7f7"
      },
      "cell_type": "markdown",
      "source": [
        "# Standardize the data"
      ],
      "id": "40f85ba7ec2fe7f7"
    },
    {
      "metadata": {
        "id": "a28856f91f629970"
      },
      "cell_type": "markdown",
      "source": [
        "The RGB channel values are in the [0, 255] range. This is not ideal for a neural network; in general you should seek to make your input values small."
      ],
      "id": "a28856f91f629970"
    },
    {
      "metadata": {
        "id": "8d8210c1e2980b80"
      },
      "cell_type": "markdown",
      "source": [
        "Now we standardize values to be in the [0, 1] range by using tf.keras.layers.Rescaling:"
      ],
      "id": "8d8210c1e2980b80"
    },
    {
      "metadata": {
        "id": "a053783c2000047c"
      },
      "cell_type": "code",
      "source": [
        "# normalization_layer = tf.keras.layers.Rescaling(1./255)"
      ],
      "id": "a053783c2000047c",
      "outputs": [],
      "execution_count": 12
    },
    {
      "metadata": {
        "id": "48a77c510f91b027"
      },
      "cell_type": "markdown",
      "source": [
        "Now there are two ways to use this layer. We can apply it to the dataset by calling Dataset.map:"
      ],
      "id": "48a77c510f91b027"
    },
    {
      "metadata": {
        "id": "ccbb996e756c0448"
      },
      "cell_type": "code",
      "source": [
        "# normalize all the data\n",
        "# normalized_train_ds = train_ds.map(lambda x, y: (normalization_layer(x), y))\n",
        "\n",
        "# let's print the first image to see the normalization\n",
        "# image_batch, labels_batch = next (iter(normalized_train_ds))\n",
        "# first_image = image_batch[0]\n",
        "# print ('Min and Max values:', np.min(first_image), '-', np.max(first_image))"
      ],
      "id": "ccbb996e756c0448",
      "outputs": [],
      "execution_count": 13
    },
    {
      "metadata": {
        "id": "e0ba48d3e49697a3"
      },
      "cell_type": "markdown",
      "source": [
        "Or we can include this layer in the model, the same can be done with the Resizing using the **tf.keras.layers.Resizing** layer (we are going to do this option)."
      ],
      "id": "e0ba48d3e49697a3"
    },
    {
      "metadata": {
        "id": "40e685ba99566c47"
      },
      "cell_type": "markdown",
      "source": [
        "# Now let's create the model (CNN)"
      ],
      "id": "40e685ba99566c47"
    },
    {
      "metadata": {
        "id": "ac8799c332f0e455"
      },
      "cell_type": "markdown",
      "source": [
        "This time we are following the models given to use:"
      ],
      "id": "ac8799c332f0e455"
    },
    {
      "metadata": {
        "id": "6e546e2742271272"
      },
      "cell_type": "code",
      "source": [
        "from keras import Sequential, layers, regularizers\n",
        "\n",
        "\n",
        "model = Sequential([\n",
        "    # set this Input layer to delete the warning\n",
        "    layers.Input(shape=(img_height, img_width, 3)),\n",
        "    # here is where the rescaling layer can be\n",
        "    layers.Rescaling(1./255),\n",
        "\n",
        "    # rest of the layers\n",
        "    layers.Conv2D(filters = 32, kernel_size = (3,3), padding = \"same\", activation = \"relu\", kernel_regularizer=regularizers.L2(0.001)),\n",
        "    layers.Conv2D(filters = 32,kernel_size = (3,3),padding = \"same\", activation = \"relu\", kernel_regularizer=regularizers.L2(0.001)),\n",
        "    layers.MaxPool2D(pool_size = (2,2),strides = (2,2)),\n",
        "    # dropout layer\n",
        "    layers.Dropout(0.5),\n",
        "\n",
        "    layers.Conv2D(filters = 64, kernel_size = (3,3), padding = \"same\", activation = \"relu\", kernel_regularizer=regularizers.L2(0.001)),\n",
        "    layers.Conv2D(filters = 64, kernel_size = (3,3), padding = \"same\", activation = \"relu\", kernel_regularizer=regularizers.L2(0.001)),\n",
        "    layers.MaxPool2D(pool_size = (2,2),strides = (2,2)),\n",
        "    # dropout layer\n",
        "    layers.Dropout(0.5),\n",
        "\n",
        "    layers.Flatten(),\n",
        "    layers.Dense(units = 512,activation = \"relu\", kernel_regularizer=regularizers.L2(0.001)),\n",
        "    # dropout layer\n",
        "    layers.Dropout(0.5),\n",
        "    layers.Dense(units = 512,activation = \"relu\", kernel_regularizer=regularizers.L2(0.001)),\n",
        "    # dropout layer\n",
        "    layers.Dropout(0.5),\n",
        "\n",
        "    # output layer\n",
        "    layers.Dense(units=1, activation='sigmoid')\n",
        "])"
      ],
      "id": "6e546e2742271272",
      "outputs": [],
      "execution_count": 14
    },
    {
      "metadata": {
        "id": "b58402b51e01f869"
      },
      "cell_type": "markdown",
      "source": [
        "# Compile the model"
      ],
      "id": "b58402b51e01f869"
    },
    {
      "metadata": {
        "id": "df7beaf9bd639f77"
      },
      "cell_type": "markdown",
      "source": [
        "This time we are going to use the **tf.keras.optimizers.Adam** optimizer and **tf.keras.losses.SparseCategoricalCrossentropy** loss function."
      ],
      "id": "df7beaf9bd639f77"
    },
    {
      "metadata": {
        "id": "6b8d29a0e41712e9"
      },
      "cell_type": "code",
      "source": [
        "model.compile(\n",
        "    optimizer='adam',\n",
        "    loss=['binary_crossentropy'], # use this loss function based on the binary classification\n",
        "    metrics=['accuracy'] # we can use accuracy because the training data is balanced\n",
        ")"
      ],
      "id": "6b8d29a0e41712e9",
      "outputs": [],
      "execution_count": 15
    },
    {
      "metadata": {
        "id": "28ee893fa3d70d5a"
      },
      "cell_type": "markdown",
      "source": [
        "# Model summary"
      ],
      "id": "28ee893fa3d70d5a"
    },
    {
      "metadata": {
        "id": "539dd67753a9d74"
      },
      "cell_type": "markdown",
      "source": [
        "We can see all the layers of the network using the Keras **Model.summary** method:"
      ],
      "id": "539dd67753a9d74"
    },
    {
      "metadata": {
        "colab": {
          "base_uri": "https://localhost:8080/",
          "height": 646
        },
        "id": "4c2e6cfb1c517fbf",
        "outputId": "7f97b5ee-28a9-496d-95ae-562553d53cc9"
      },
      "cell_type": "code",
      "source": [
        "model.summary()"
      ],
      "id": "4c2e6cfb1c517fbf",
      "outputs": [
        {
          "output_type": "display_data",
          "data": {
            "text/plain": [
              "\u001b[1mModel: \"sequential\"\u001b[0m\n"
            ],
            "text/html": [
              "<pre style=\"white-space:pre;overflow-x:auto;line-height:normal;font-family:Menlo,'DejaVu Sans Mono',consolas,'Courier New',monospace\"><span style=\"font-weight: bold\">Model: \"sequential\"</span>\n",
              "</pre>\n"
            ]
          },
          "metadata": {}
        },
        {
          "output_type": "display_data",
          "data": {
            "text/plain": [
              "┏━━━━━━━━━━━━━━━━━━━━━━━━━━━━━━━━━┳━━━━━━━━━━━━━━━━━━━━━━━━┳━━━━━━━━━━━━━━━┓\n",
              "┃\u001b[1m \u001b[0m\u001b[1mLayer (type)                   \u001b[0m\u001b[1m \u001b[0m┃\u001b[1m \u001b[0m\u001b[1mOutput Shape          \u001b[0m\u001b[1m \u001b[0m┃\u001b[1m \u001b[0m\u001b[1m      Param #\u001b[0m\u001b[1m \u001b[0m┃\n",
              "┡━━━━━━━━━━━━━━━━━━━━━━━━━━━━━━━━━╇━━━━━━━━━━━━━━━━━━━━━━━━╇━━━━━━━━━━━━━━━┩\n",
              "│ rescaling (\u001b[38;5;33mRescaling\u001b[0m)           │ (\u001b[38;5;45mNone\u001b[0m, \u001b[38;5;34m32\u001b[0m, \u001b[38;5;34m32\u001b[0m, \u001b[38;5;34m3\u001b[0m)      │             \u001b[38;5;34m0\u001b[0m │\n",
              "├─────────────────────────────────┼────────────────────────┼───────────────┤\n",
              "│ conv2d (\u001b[38;5;33mConv2D\u001b[0m)                 │ (\u001b[38;5;45mNone\u001b[0m, \u001b[38;5;34m32\u001b[0m, \u001b[38;5;34m32\u001b[0m, \u001b[38;5;34m32\u001b[0m)     │           \u001b[38;5;34m896\u001b[0m │\n",
              "├─────────────────────────────────┼────────────────────────┼───────────────┤\n",
              "│ conv2d_1 (\u001b[38;5;33mConv2D\u001b[0m)               │ (\u001b[38;5;45mNone\u001b[0m, \u001b[38;5;34m32\u001b[0m, \u001b[38;5;34m32\u001b[0m, \u001b[38;5;34m32\u001b[0m)     │         \u001b[38;5;34m9,248\u001b[0m │\n",
              "├─────────────────────────────────┼────────────────────────┼───────────────┤\n",
              "│ max_pooling2d (\u001b[38;5;33mMaxPooling2D\u001b[0m)    │ (\u001b[38;5;45mNone\u001b[0m, \u001b[38;5;34m16\u001b[0m, \u001b[38;5;34m16\u001b[0m, \u001b[38;5;34m32\u001b[0m)     │             \u001b[38;5;34m0\u001b[0m │\n",
              "├─────────────────────────────────┼────────────────────────┼───────────────┤\n",
              "│ dropout (\u001b[38;5;33mDropout\u001b[0m)               │ (\u001b[38;5;45mNone\u001b[0m, \u001b[38;5;34m16\u001b[0m, \u001b[38;5;34m16\u001b[0m, \u001b[38;5;34m32\u001b[0m)     │             \u001b[38;5;34m0\u001b[0m │\n",
              "├─────────────────────────────────┼────────────────────────┼───────────────┤\n",
              "│ conv2d_2 (\u001b[38;5;33mConv2D\u001b[0m)               │ (\u001b[38;5;45mNone\u001b[0m, \u001b[38;5;34m16\u001b[0m, \u001b[38;5;34m16\u001b[0m, \u001b[38;5;34m64\u001b[0m)     │        \u001b[38;5;34m18,496\u001b[0m │\n",
              "├─────────────────────────────────┼────────────────────────┼───────────────┤\n",
              "│ conv2d_3 (\u001b[38;5;33mConv2D\u001b[0m)               │ (\u001b[38;5;45mNone\u001b[0m, \u001b[38;5;34m16\u001b[0m, \u001b[38;5;34m16\u001b[0m, \u001b[38;5;34m64\u001b[0m)     │        \u001b[38;5;34m36,928\u001b[0m │\n",
              "├─────────────────────────────────┼────────────────────────┼───────────────┤\n",
              "│ max_pooling2d_1 (\u001b[38;5;33mMaxPooling2D\u001b[0m)  │ (\u001b[38;5;45mNone\u001b[0m, \u001b[38;5;34m8\u001b[0m, \u001b[38;5;34m8\u001b[0m, \u001b[38;5;34m64\u001b[0m)       │             \u001b[38;5;34m0\u001b[0m │\n",
              "├─────────────────────────────────┼────────────────────────┼───────────────┤\n",
              "│ dropout_1 (\u001b[38;5;33mDropout\u001b[0m)             │ (\u001b[38;5;45mNone\u001b[0m, \u001b[38;5;34m8\u001b[0m, \u001b[38;5;34m8\u001b[0m, \u001b[38;5;34m64\u001b[0m)       │             \u001b[38;5;34m0\u001b[0m │\n",
              "├─────────────────────────────────┼────────────────────────┼───────────────┤\n",
              "│ flatten (\u001b[38;5;33mFlatten\u001b[0m)               │ (\u001b[38;5;45mNone\u001b[0m, \u001b[38;5;34m4096\u001b[0m)           │             \u001b[38;5;34m0\u001b[0m │\n",
              "├─────────────────────────────────┼────────────────────────┼───────────────┤\n",
              "│ dense (\u001b[38;5;33mDense\u001b[0m)                   │ (\u001b[38;5;45mNone\u001b[0m, \u001b[38;5;34m512\u001b[0m)            │     \u001b[38;5;34m2,097,664\u001b[0m │\n",
              "├─────────────────────────────────┼────────────────────────┼───────────────┤\n",
              "│ dropout_2 (\u001b[38;5;33mDropout\u001b[0m)             │ (\u001b[38;5;45mNone\u001b[0m, \u001b[38;5;34m512\u001b[0m)            │             \u001b[38;5;34m0\u001b[0m │\n",
              "├─────────────────────────────────┼────────────────────────┼───────────────┤\n",
              "│ dense_1 (\u001b[38;5;33mDense\u001b[0m)                 │ (\u001b[38;5;45mNone\u001b[0m, \u001b[38;5;34m512\u001b[0m)            │       \u001b[38;5;34m262,656\u001b[0m │\n",
              "├─────────────────────────────────┼────────────────────────┼───────────────┤\n",
              "│ dropout_3 (\u001b[38;5;33mDropout\u001b[0m)             │ (\u001b[38;5;45mNone\u001b[0m, \u001b[38;5;34m512\u001b[0m)            │             \u001b[38;5;34m0\u001b[0m │\n",
              "├─────────────────────────────────┼────────────────────────┼───────────────┤\n",
              "│ dense_2 (\u001b[38;5;33mDense\u001b[0m)                 │ (\u001b[38;5;45mNone\u001b[0m, \u001b[38;5;34m1\u001b[0m)              │           \u001b[38;5;34m513\u001b[0m │\n",
              "└─────────────────────────────────┴────────────────────────┴───────────────┘\n"
            ],
            "text/html": [
              "<pre style=\"white-space:pre;overflow-x:auto;line-height:normal;font-family:Menlo,'DejaVu Sans Mono',consolas,'Courier New',monospace\">┏━━━━━━━━━━━━━━━━━━━━━━━━━━━━━━━━━┳━━━━━━━━━━━━━━━━━━━━━━━━┳━━━━━━━━━━━━━━━┓\n",
              "┃<span style=\"font-weight: bold\"> Layer (type)                    </span>┃<span style=\"font-weight: bold\"> Output Shape           </span>┃<span style=\"font-weight: bold\">       Param # </span>┃\n",
              "┡━━━━━━━━━━━━━━━━━━━━━━━━━━━━━━━━━╇━━━━━━━━━━━━━━━━━━━━━━━━╇━━━━━━━━━━━━━━━┩\n",
              "│ rescaling (<span style=\"color: #0087ff; text-decoration-color: #0087ff\">Rescaling</span>)           │ (<span style=\"color: #00d7ff; text-decoration-color: #00d7ff\">None</span>, <span style=\"color: #00af00; text-decoration-color: #00af00\">32</span>, <span style=\"color: #00af00; text-decoration-color: #00af00\">32</span>, <span style=\"color: #00af00; text-decoration-color: #00af00\">3</span>)      │             <span style=\"color: #00af00; text-decoration-color: #00af00\">0</span> │\n",
              "├─────────────────────────────────┼────────────────────────┼───────────────┤\n",
              "│ conv2d (<span style=\"color: #0087ff; text-decoration-color: #0087ff\">Conv2D</span>)                 │ (<span style=\"color: #00d7ff; text-decoration-color: #00d7ff\">None</span>, <span style=\"color: #00af00; text-decoration-color: #00af00\">32</span>, <span style=\"color: #00af00; text-decoration-color: #00af00\">32</span>, <span style=\"color: #00af00; text-decoration-color: #00af00\">32</span>)     │           <span style=\"color: #00af00; text-decoration-color: #00af00\">896</span> │\n",
              "├─────────────────────────────────┼────────────────────────┼───────────────┤\n",
              "│ conv2d_1 (<span style=\"color: #0087ff; text-decoration-color: #0087ff\">Conv2D</span>)               │ (<span style=\"color: #00d7ff; text-decoration-color: #00d7ff\">None</span>, <span style=\"color: #00af00; text-decoration-color: #00af00\">32</span>, <span style=\"color: #00af00; text-decoration-color: #00af00\">32</span>, <span style=\"color: #00af00; text-decoration-color: #00af00\">32</span>)     │         <span style=\"color: #00af00; text-decoration-color: #00af00\">9,248</span> │\n",
              "├─────────────────────────────────┼────────────────────────┼───────────────┤\n",
              "│ max_pooling2d (<span style=\"color: #0087ff; text-decoration-color: #0087ff\">MaxPooling2D</span>)    │ (<span style=\"color: #00d7ff; text-decoration-color: #00d7ff\">None</span>, <span style=\"color: #00af00; text-decoration-color: #00af00\">16</span>, <span style=\"color: #00af00; text-decoration-color: #00af00\">16</span>, <span style=\"color: #00af00; text-decoration-color: #00af00\">32</span>)     │             <span style=\"color: #00af00; text-decoration-color: #00af00\">0</span> │\n",
              "├─────────────────────────────────┼────────────────────────┼───────────────┤\n",
              "│ dropout (<span style=\"color: #0087ff; text-decoration-color: #0087ff\">Dropout</span>)               │ (<span style=\"color: #00d7ff; text-decoration-color: #00d7ff\">None</span>, <span style=\"color: #00af00; text-decoration-color: #00af00\">16</span>, <span style=\"color: #00af00; text-decoration-color: #00af00\">16</span>, <span style=\"color: #00af00; text-decoration-color: #00af00\">32</span>)     │             <span style=\"color: #00af00; text-decoration-color: #00af00\">0</span> │\n",
              "├─────────────────────────────────┼────────────────────────┼───────────────┤\n",
              "│ conv2d_2 (<span style=\"color: #0087ff; text-decoration-color: #0087ff\">Conv2D</span>)               │ (<span style=\"color: #00d7ff; text-decoration-color: #00d7ff\">None</span>, <span style=\"color: #00af00; text-decoration-color: #00af00\">16</span>, <span style=\"color: #00af00; text-decoration-color: #00af00\">16</span>, <span style=\"color: #00af00; text-decoration-color: #00af00\">64</span>)     │        <span style=\"color: #00af00; text-decoration-color: #00af00\">18,496</span> │\n",
              "├─────────────────────────────────┼────────────────────────┼───────────────┤\n",
              "│ conv2d_3 (<span style=\"color: #0087ff; text-decoration-color: #0087ff\">Conv2D</span>)               │ (<span style=\"color: #00d7ff; text-decoration-color: #00d7ff\">None</span>, <span style=\"color: #00af00; text-decoration-color: #00af00\">16</span>, <span style=\"color: #00af00; text-decoration-color: #00af00\">16</span>, <span style=\"color: #00af00; text-decoration-color: #00af00\">64</span>)     │        <span style=\"color: #00af00; text-decoration-color: #00af00\">36,928</span> │\n",
              "├─────────────────────────────────┼────────────────────────┼───────────────┤\n",
              "│ max_pooling2d_1 (<span style=\"color: #0087ff; text-decoration-color: #0087ff\">MaxPooling2D</span>)  │ (<span style=\"color: #00d7ff; text-decoration-color: #00d7ff\">None</span>, <span style=\"color: #00af00; text-decoration-color: #00af00\">8</span>, <span style=\"color: #00af00; text-decoration-color: #00af00\">8</span>, <span style=\"color: #00af00; text-decoration-color: #00af00\">64</span>)       │             <span style=\"color: #00af00; text-decoration-color: #00af00\">0</span> │\n",
              "├─────────────────────────────────┼────────────────────────┼───────────────┤\n",
              "│ dropout_1 (<span style=\"color: #0087ff; text-decoration-color: #0087ff\">Dropout</span>)             │ (<span style=\"color: #00d7ff; text-decoration-color: #00d7ff\">None</span>, <span style=\"color: #00af00; text-decoration-color: #00af00\">8</span>, <span style=\"color: #00af00; text-decoration-color: #00af00\">8</span>, <span style=\"color: #00af00; text-decoration-color: #00af00\">64</span>)       │             <span style=\"color: #00af00; text-decoration-color: #00af00\">0</span> │\n",
              "├─────────────────────────────────┼────────────────────────┼───────────────┤\n",
              "│ flatten (<span style=\"color: #0087ff; text-decoration-color: #0087ff\">Flatten</span>)               │ (<span style=\"color: #00d7ff; text-decoration-color: #00d7ff\">None</span>, <span style=\"color: #00af00; text-decoration-color: #00af00\">4096</span>)           │             <span style=\"color: #00af00; text-decoration-color: #00af00\">0</span> │\n",
              "├─────────────────────────────────┼────────────────────────┼───────────────┤\n",
              "│ dense (<span style=\"color: #0087ff; text-decoration-color: #0087ff\">Dense</span>)                   │ (<span style=\"color: #00d7ff; text-decoration-color: #00d7ff\">None</span>, <span style=\"color: #00af00; text-decoration-color: #00af00\">512</span>)            │     <span style=\"color: #00af00; text-decoration-color: #00af00\">2,097,664</span> │\n",
              "├─────────────────────────────────┼────────────────────────┼───────────────┤\n",
              "│ dropout_2 (<span style=\"color: #0087ff; text-decoration-color: #0087ff\">Dropout</span>)             │ (<span style=\"color: #00d7ff; text-decoration-color: #00d7ff\">None</span>, <span style=\"color: #00af00; text-decoration-color: #00af00\">512</span>)            │             <span style=\"color: #00af00; text-decoration-color: #00af00\">0</span> │\n",
              "├─────────────────────────────────┼────────────────────────┼───────────────┤\n",
              "│ dense_1 (<span style=\"color: #0087ff; text-decoration-color: #0087ff\">Dense</span>)                 │ (<span style=\"color: #00d7ff; text-decoration-color: #00d7ff\">None</span>, <span style=\"color: #00af00; text-decoration-color: #00af00\">512</span>)            │       <span style=\"color: #00af00; text-decoration-color: #00af00\">262,656</span> │\n",
              "├─────────────────────────────────┼────────────────────────┼───────────────┤\n",
              "│ dropout_3 (<span style=\"color: #0087ff; text-decoration-color: #0087ff\">Dropout</span>)             │ (<span style=\"color: #00d7ff; text-decoration-color: #00d7ff\">None</span>, <span style=\"color: #00af00; text-decoration-color: #00af00\">512</span>)            │             <span style=\"color: #00af00; text-decoration-color: #00af00\">0</span> │\n",
              "├─────────────────────────────────┼────────────────────────┼───────────────┤\n",
              "│ dense_2 (<span style=\"color: #0087ff; text-decoration-color: #0087ff\">Dense</span>)                 │ (<span style=\"color: #00d7ff; text-decoration-color: #00d7ff\">None</span>, <span style=\"color: #00af00; text-decoration-color: #00af00\">1</span>)              │           <span style=\"color: #00af00; text-decoration-color: #00af00\">513</span> │\n",
              "└─────────────────────────────────┴────────────────────────┴───────────────┘\n",
              "</pre>\n"
            ]
          },
          "metadata": {}
        },
        {
          "output_type": "display_data",
          "data": {
            "text/plain": [
              "\u001b[1m Total params: \u001b[0m\u001b[38;5;34m2,426,401\u001b[0m (9.26 MB)\n"
            ],
            "text/html": [
              "<pre style=\"white-space:pre;overflow-x:auto;line-height:normal;font-family:Menlo,'DejaVu Sans Mono',consolas,'Courier New',monospace\"><span style=\"font-weight: bold\"> Total params: </span><span style=\"color: #00af00; text-decoration-color: #00af00\">2,426,401</span> (9.26 MB)\n",
              "</pre>\n"
            ]
          },
          "metadata": {}
        },
        {
          "output_type": "display_data",
          "data": {
            "text/plain": [
              "\u001b[1m Trainable params: \u001b[0m\u001b[38;5;34m2,426,401\u001b[0m (9.26 MB)\n"
            ],
            "text/html": [
              "<pre style=\"white-space:pre;overflow-x:auto;line-height:normal;font-family:Menlo,'DejaVu Sans Mono',consolas,'Courier New',monospace\"><span style=\"font-weight: bold\"> Trainable params: </span><span style=\"color: #00af00; text-decoration-color: #00af00\">2,426,401</span> (9.26 MB)\n",
              "</pre>\n"
            ]
          },
          "metadata": {}
        },
        {
          "output_type": "display_data",
          "data": {
            "text/plain": [
              "\u001b[1m Non-trainable params: \u001b[0m\u001b[38;5;34m0\u001b[0m (0.00 B)\n"
            ],
            "text/html": [
              "<pre style=\"white-space:pre;overflow-x:auto;line-height:normal;font-family:Menlo,'DejaVu Sans Mono',consolas,'Courier New',monospace\"><span style=\"font-weight: bold\"> Non-trainable params: </span><span style=\"color: #00af00; text-decoration-color: #00af00\">0</span> (0.00 B)\n",
              "</pre>\n"
            ]
          },
          "metadata": {}
        }
      ],
      "execution_count": 16
    },
    {
      "metadata": {
        "id": "4b823928749ea2b4"
      },
      "cell_type": "markdown",
      "source": [
        "# Train the model"
      ],
      "id": "4b823928749ea2b4"
    },
    {
      "metadata": {
        "id": "eacee18021371fe3"
      },
      "cell_type": "markdown",
      "source": [
        "Early stopping conf"
      ],
      "id": "eacee18021371fe3"
    },
    {
      "metadata": {
        "id": "b2cca01003e7d64d"
      },
      "cell_type": "code",
      "source": [
        "from keras.src.callbacks import EarlyStopping\n",
        "\n",
        "\n",
        "early_stopping = EarlyStopping(\n",
        "    monitor='val_loss',         # metric to verify\n",
        "    patience=25,                 # number of epochs without change to stop\n",
        "    restore_best_weights=True\n",
        ")"
      ],
      "id": "b2cca01003e7d64d",
      "outputs": [],
      "execution_count": 17
    },
    {
      "metadata": {
        "id": "474a1e5956828eef"
      },
      "cell_type": "markdown",
      "source": [
        "Learning rate scheduler (not used in the final model)"
      ],
      "id": "474a1e5956828eef"
    },
    {
      "metadata": {
        "id": "e37377c2085a4080"
      },
      "cell_type": "code",
      "source": [
        "from keras.src.callbacks import LearningRateScheduler\n",
        "\n",
        "\n",
        "def scheduler(epoch, lr) -> float:\n",
        "    \"\"\"\n",
        "    Scheduler that reduces the learning rate by 10.\n",
        "\n",
        "    Args:\n",
        "        epoch (int): The current epoch.\n",
        "        lr (float): The current learning rate.\n",
        "\n",
        "    Returns:\n",
        "        float: The new learning rate.\n",
        "    \"\"\"\n",
        "    if epoch < 10:\n",
        "        return lr\n",
        "    else:\n",
        "        return lr * 0.1\n",
        "\n",
        "lr_scheduler = LearningRateScheduler(scheduler)"
      ],
      "id": "e37377c2085a4080",
      "outputs": [],
      "execution_count": 24
    },
    {
      "metadata": {
        "id": "b41ecd1d06635f81"
      },
      "cell_type": "markdown",
      "source": [
        "Fitting of the model"
      ],
      "id": "b41ecd1d06635f81"
    },
    {
      "metadata": {
        "colab": {
          "base_uri": "https://localhost:8080/"
        },
        "id": "2820e77c51c296b4",
        "outputId": "7a958ed4-e10f-489c-9483-05c66b9bb519"
      },
      "cell_type": "code",
      "source": [
        "# epoch to train\n",
        "epochs = 200\n",
        "\n",
        "# train\n",
        "history = model.fit(\n",
        "    x=X_train,\n",
        "    y=y_train,\n",
        "    epochs=epochs,\n",
        "    callbacks=[early_stopping],\n",
        "    batch_size=64,\n",
        "    validation_data=(X_test, y_test)\n",
        ")"
      ],
      "id": "2820e77c51c296b4",
      "outputs": [
        {
          "output_type": "stream",
          "name": "stdout",
          "text": [
            "Epoch 1/200\n",
            "\u001b[1m157/157\u001b[0m \u001b[32m━━━━━━━━━━━━━━━━━━━━\u001b[0m\u001b[37m\u001b[0m \u001b[1m17s\u001b[0m 48ms/step - accuracy: 0.5795 - loss: 1.5171 - val_accuracy: 0.7530 - val_loss: 0.6825\n",
            "Epoch 2/200\n",
            "\u001b[1m157/157\u001b[0m \u001b[32m━━━━━━━━━━━━━━━━━━━━\u001b[0m\u001b[37m\u001b[0m \u001b[1m1s\u001b[0m 7ms/step - accuracy: 0.7377 - loss: 0.6802 - val_accuracy: 0.7690 - val_loss: 0.5889\n",
            "Epoch 3/200\n",
            "\u001b[1m157/157\u001b[0m \u001b[32m━━━━━━━━━━━━━━━━━━━━\u001b[0m\u001b[37m\u001b[0m \u001b[1m1s\u001b[0m 7ms/step - accuracy: 0.7747 - loss: 0.5813 - val_accuracy: 0.8020 - val_loss: 0.5137\n",
            "Epoch 4/200\n",
            "\u001b[1m157/157\u001b[0m \u001b[32m━━━━━━━━━━━━━━━━━━━━\u001b[0m\u001b[37m\u001b[0m \u001b[1m1s\u001b[0m 7ms/step - accuracy: 0.7940 - loss: 0.5402 - val_accuracy: 0.8160 - val_loss: 0.4855\n",
            "Epoch 5/200\n",
            "\u001b[1m157/157\u001b[0m \u001b[32m━━━━━━━━━━━━━━━━━━━━\u001b[0m\u001b[37m\u001b[0m \u001b[1m1s\u001b[0m 7ms/step - accuracy: 0.8182 - loss: 0.4949 - val_accuracy: 0.8450 - val_loss: 0.4410\n",
            "Epoch 6/200\n",
            "\u001b[1m157/157\u001b[0m \u001b[32m━━━━━━━━━━━━━━━━━━━━\u001b[0m\u001b[37m\u001b[0m \u001b[1m1s\u001b[0m 7ms/step - accuracy: 0.8390 - loss: 0.4679 - val_accuracy: 0.8560 - val_loss: 0.4383\n",
            "Epoch 7/200\n",
            "\u001b[1m157/157\u001b[0m \u001b[32m━━━━━━━━━━━━━━━━━━━━\u001b[0m\u001b[37m\u001b[0m \u001b[1m1s\u001b[0m 7ms/step - accuracy: 0.8341 - loss: 0.4773 - val_accuracy: 0.8720 - val_loss: 0.4190\n",
            "Epoch 8/200\n",
            "\u001b[1m157/157\u001b[0m \u001b[32m━━━━━━━━━━━━━━━━━━━━\u001b[0m\u001b[37m\u001b[0m \u001b[1m1s\u001b[0m 7ms/step - accuracy: 0.8520 - loss: 0.4409 - val_accuracy: 0.8085 - val_loss: 0.5115\n",
            "Epoch 9/200\n",
            "\u001b[1m157/157\u001b[0m \u001b[32m━━━━━━━━━━━━━━━━━━━━\u001b[0m\u001b[37m\u001b[0m \u001b[1m1s\u001b[0m 8ms/step - accuracy: 0.8539 - loss: 0.4305 - val_accuracy: 0.8960 - val_loss: 0.3789\n",
            "Epoch 10/200\n",
            "\u001b[1m157/157\u001b[0m \u001b[32m━━━━━━━━━━━━━━━━━━━━\u001b[0m\u001b[37m\u001b[0m \u001b[1m2s\u001b[0m 7ms/step - accuracy: 0.8616 - loss: 0.4279 - val_accuracy: 0.8985 - val_loss: 0.3551\n",
            "Epoch 11/200\n",
            "\u001b[1m157/157\u001b[0m \u001b[32m━━━━━━━━━━━━━━━━━━━━\u001b[0m\u001b[37m\u001b[0m \u001b[1m1s\u001b[0m 8ms/step - accuracy: 0.8709 - loss: 0.4113 - val_accuracy: 0.8990 - val_loss: 0.3583\n",
            "Epoch 12/200\n",
            "\u001b[1m157/157\u001b[0m \u001b[32m━━━━━━━━━━━━━━━━━━━━\u001b[0m\u001b[37m\u001b[0m \u001b[1m1s\u001b[0m 8ms/step - accuracy: 0.8837 - loss: 0.3887 - val_accuracy: 0.9000 - val_loss: 0.3586\n",
            "Epoch 13/200\n",
            "\u001b[1m157/157\u001b[0m \u001b[32m━━━━━━━━━━━━━━━━━━━━\u001b[0m\u001b[37m\u001b[0m \u001b[1m1s\u001b[0m 7ms/step - accuracy: 0.8850 - loss: 0.3835 - val_accuracy: 0.8985 - val_loss: 0.3474\n",
            "Epoch 14/200\n",
            "\u001b[1m157/157\u001b[0m \u001b[32m━━━━━━━━━━━━━━━━━━━━\u001b[0m\u001b[37m\u001b[0m \u001b[1m1s\u001b[0m 7ms/step - accuracy: 0.8828 - loss: 0.3958 - val_accuracy: 0.8980 - val_loss: 0.3525\n",
            "Epoch 15/200\n",
            "\u001b[1m157/157\u001b[0m \u001b[32m━━━━━━━━━━━━━━━━━━━━\u001b[0m\u001b[37m\u001b[0m \u001b[1m2s\u001b[0m 9ms/step - accuracy: 0.8920 - loss: 0.3699 - val_accuracy: 0.9075 - val_loss: 0.3449\n",
            "Epoch 16/200\n",
            "\u001b[1m157/157\u001b[0m \u001b[32m━━━━━━━━━━━━━━━━━━━━\u001b[0m\u001b[37m\u001b[0m \u001b[1m2s\u001b[0m 11ms/step - accuracy: 0.8983 - loss: 0.3694 - val_accuracy: 0.9170 - val_loss: 0.3177\n",
            "Epoch 17/200\n",
            "\u001b[1m157/157\u001b[0m \u001b[32m━━━━━━━━━━━━━━━━━━━━\u001b[0m\u001b[37m\u001b[0m \u001b[1m2s\u001b[0m 8ms/step - accuracy: 0.9009 - loss: 0.3557 - val_accuracy: 0.9190 - val_loss: 0.3266\n",
            "Epoch 18/200\n",
            "\u001b[1m157/157\u001b[0m \u001b[32m━━━━━━━━━━━━━━━━━━━━\u001b[0m\u001b[37m\u001b[0m \u001b[1m3s\u001b[0m 9ms/step - accuracy: 0.9018 - loss: 0.3607 - val_accuracy: 0.9085 - val_loss: 0.3451\n",
            "Epoch 19/200\n",
            "\u001b[1m157/157\u001b[0m \u001b[32m━━━━━━━━━━━━━━━━━━━━\u001b[0m\u001b[37m\u001b[0m \u001b[1m1s\u001b[0m 9ms/step - accuracy: 0.9085 - loss: 0.3531 - val_accuracy: 0.9220 - val_loss: 0.3238\n",
            "Epoch 20/200\n",
            "\u001b[1m157/157\u001b[0m \u001b[32m━━━━━━━━━━━━━━━━━━━━\u001b[0m\u001b[37m\u001b[0m \u001b[1m2s\u001b[0m 7ms/step - accuracy: 0.9009 - loss: 0.3521 - val_accuracy: 0.9115 - val_loss: 0.3309\n",
            "Epoch 21/200\n",
            "\u001b[1m157/157\u001b[0m \u001b[32m━━━━━━━━━━━━━━━━━━━━\u001b[0m\u001b[37m\u001b[0m \u001b[1m1s\u001b[0m 7ms/step - accuracy: 0.9075 - loss: 0.3447 - val_accuracy: 0.9170 - val_loss: 0.3284\n",
            "Epoch 22/200\n",
            "\u001b[1m157/157\u001b[0m \u001b[32m━━━━━━━━━━━━━━━━━━━━\u001b[0m\u001b[37m\u001b[0m \u001b[1m1s\u001b[0m 7ms/step - accuracy: 0.9088 - loss: 0.3386 - val_accuracy: 0.9070 - val_loss: 0.3388\n",
            "Epoch 23/200\n",
            "\u001b[1m157/157\u001b[0m \u001b[32m━━━━━━━━━━━━━━━━━━━━\u001b[0m\u001b[37m\u001b[0m \u001b[1m1s\u001b[0m 7ms/step - accuracy: 0.9098 - loss: 0.3411 - val_accuracy: 0.8995 - val_loss: 0.3630\n",
            "Epoch 24/200\n",
            "\u001b[1m157/157\u001b[0m \u001b[32m━━━━━━━━━━━━━━━━━━━━\u001b[0m\u001b[37m\u001b[0m \u001b[1m1s\u001b[0m 8ms/step - accuracy: 0.9081 - loss: 0.3444 - val_accuracy: 0.9180 - val_loss: 0.3078\n",
            "Epoch 25/200\n",
            "\u001b[1m157/157\u001b[0m \u001b[32m━━━━━━━━━━━━━━━━━━━━\u001b[0m\u001b[37m\u001b[0m \u001b[1m1s\u001b[0m 8ms/step - accuracy: 0.9155 - loss: 0.3169 - val_accuracy: 0.9185 - val_loss: 0.3117\n",
            "Epoch 26/200\n",
            "\u001b[1m157/157\u001b[0m \u001b[32m━━━━━━━━━━━━━━━━━━━━\u001b[0m\u001b[37m\u001b[0m \u001b[1m1s\u001b[0m 8ms/step - accuracy: 0.9166 - loss: 0.3307 - val_accuracy: 0.9245 - val_loss: 0.3052\n",
            "Epoch 27/200\n",
            "\u001b[1m157/157\u001b[0m \u001b[32m━━━━━━━━━━━━━━━━━━━━\u001b[0m\u001b[37m\u001b[0m \u001b[1m1s\u001b[0m 8ms/step - accuracy: 0.9164 - loss: 0.3257 - val_accuracy: 0.9235 - val_loss: 0.3088\n",
            "Epoch 28/200\n",
            "\u001b[1m157/157\u001b[0m \u001b[32m━━━━━━━━━━━━━━━━━━━━\u001b[0m\u001b[37m\u001b[0m \u001b[1m1s\u001b[0m 7ms/step - accuracy: 0.9189 - loss: 0.3259 - val_accuracy: 0.9205 - val_loss: 0.3230\n",
            "Epoch 29/200\n",
            "\u001b[1m157/157\u001b[0m \u001b[32m━━━━━━━━━━━━━━━━━━━━\u001b[0m\u001b[37m\u001b[0m \u001b[1m1s\u001b[0m 8ms/step - accuracy: 0.9215 - loss: 0.3203 - val_accuracy: 0.9245 - val_loss: 0.3158\n",
            "Epoch 30/200\n",
            "\u001b[1m157/157\u001b[0m \u001b[32m━━━━━━━━━━━━━━━━━━━━\u001b[0m\u001b[37m\u001b[0m \u001b[1m3s\u001b[0m 9ms/step - accuracy: 0.9221 - loss: 0.3212 - val_accuracy: 0.9255 - val_loss: 0.3095\n",
            "Epoch 31/200\n",
            "\u001b[1m157/157\u001b[0m \u001b[32m━━━━━━━━━━━━━━━━━━━━\u001b[0m\u001b[37m\u001b[0m \u001b[1m1s\u001b[0m 8ms/step - accuracy: 0.9181 - loss: 0.3225 - val_accuracy: 0.9050 - val_loss: 0.3570\n",
            "Epoch 32/200\n",
            "\u001b[1m157/157\u001b[0m \u001b[32m━━━━━━━━━━━━━━━━━━━━\u001b[0m\u001b[37m\u001b[0m \u001b[1m1s\u001b[0m 8ms/step - accuracy: 0.9216 - loss: 0.3204 - val_accuracy: 0.9195 - val_loss: 0.3232\n",
            "Epoch 33/200\n",
            "\u001b[1m157/157\u001b[0m \u001b[32m━━━━━━━━━━━━━━━━━━━━\u001b[0m\u001b[37m\u001b[0m \u001b[1m2s\u001b[0m 10ms/step - accuracy: 0.9234 - loss: 0.3191 - val_accuracy: 0.9185 - val_loss: 0.3372\n",
            "Epoch 34/200\n",
            "\u001b[1m157/157\u001b[0m \u001b[32m━━━━━━━━━━━━━━━━━━━━\u001b[0m\u001b[37m\u001b[0m \u001b[1m2s\u001b[0m 8ms/step - accuracy: 0.9192 - loss: 0.3114 - val_accuracy: 0.9255 - val_loss: 0.3132\n",
            "Epoch 35/200\n",
            "\u001b[1m157/157\u001b[0m \u001b[32m━━━━━━━━━━━━━━━━━━━━\u001b[0m\u001b[37m\u001b[0m \u001b[1m2s\u001b[0m 8ms/step - accuracy: 0.9206 - loss: 0.3200 - val_accuracy: 0.9235 - val_loss: 0.3206\n",
            "Epoch 36/200\n",
            "\u001b[1m157/157\u001b[0m \u001b[32m━━━━━━━━━━━━━━━━━━━━\u001b[0m\u001b[37m\u001b[0m \u001b[1m1s\u001b[0m 8ms/step - accuracy: 0.9285 - loss: 0.3004 - val_accuracy: 0.9200 - val_loss: 0.3067\n",
            "Epoch 37/200\n",
            "\u001b[1m157/157\u001b[0m \u001b[32m━━━━━━━━━━━━━━━━━━━━\u001b[0m\u001b[37m\u001b[0m \u001b[1m2s\u001b[0m 10ms/step - accuracy: 0.9269 - loss: 0.3006 - val_accuracy: 0.9280 - val_loss: 0.3048\n",
            "Epoch 38/200\n",
            "\u001b[1m157/157\u001b[0m \u001b[32m━━━━━━━━━━━━━━━━━━━━\u001b[0m\u001b[37m\u001b[0m \u001b[1m1s\u001b[0m 7ms/step - accuracy: 0.9213 - loss: 0.3176 - val_accuracy: 0.9280 - val_loss: 0.3090\n",
            "Epoch 39/200\n",
            "\u001b[1m157/157\u001b[0m \u001b[32m━━━━━━━━━━━━━━━━━━━━\u001b[0m\u001b[37m\u001b[0m \u001b[1m1s\u001b[0m 7ms/step - accuracy: 0.9335 - loss: 0.3001 - val_accuracy: 0.9245 - val_loss: 0.3074\n",
            "Epoch 40/200\n",
            "\u001b[1m157/157\u001b[0m \u001b[32m━━━━━━━━━━━━━━━━━━━━\u001b[0m\u001b[37m\u001b[0m \u001b[1m1s\u001b[0m 8ms/step - accuracy: 0.9198 - loss: 0.3178 - val_accuracy: 0.9320 - val_loss: 0.2996\n",
            "Epoch 41/200\n",
            "\u001b[1m157/157\u001b[0m \u001b[32m━━━━━━━━━━━━━━━━━━━━\u001b[0m\u001b[37m\u001b[0m \u001b[1m2s\u001b[0m 7ms/step - accuracy: 0.9361 - loss: 0.2919 - val_accuracy: 0.9275 - val_loss: 0.3210\n",
            "Epoch 42/200\n",
            "\u001b[1m157/157\u001b[0m \u001b[32m━━━━━━━━━━━━━━━━━━━━\u001b[0m\u001b[37m\u001b[0m \u001b[1m1s\u001b[0m 7ms/step - accuracy: 0.9250 - loss: 0.3051 - val_accuracy: 0.9350 - val_loss: 0.2977\n",
            "Epoch 43/200\n",
            "\u001b[1m157/157\u001b[0m \u001b[32m━━━━━━━━━━━━━━━━━━━━\u001b[0m\u001b[37m\u001b[0m \u001b[1m1s\u001b[0m 7ms/step - accuracy: 0.9341 - loss: 0.2903 - val_accuracy: 0.9340 - val_loss: 0.2904\n",
            "Epoch 44/200\n",
            "\u001b[1m157/157\u001b[0m \u001b[32m━━━━━━━━━━━━━━━━━━━━\u001b[0m\u001b[37m\u001b[0m \u001b[1m1s\u001b[0m 7ms/step - accuracy: 0.9243 - loss: 0.3045 - val_accuracy: 0.9315 - val_loss: 0.2928\n",
            "Epoch 45/200\n",
            "\u001b[1m157/157\u001b[0m \u001b[32m━━━━━━━━━━━━━━━━━━━━\u001b[0m\u001b[37m\u001b[0m \u001b[1m1s\u001b[0m 7ms/step - accuracy: 0.9316 - loss: 0.2946 - val_accuracy: 0.9305 - val_loss: 0.2906\n",
            "Epoch 46/200\n",
            "\u001b[1m157/157\u001b[0m \u001b[32m━━━━━━━━━━━━━━━━━━━━\u001b[0m\u001b[37m\u001b[0m \u001b[1m1s\u001b[0m 7ms/step - accuracy: 0.9311 - loss: 0.2986 - val_accuracy: 0.9355 - val_loss: 0.2987\n",
            "Epoch 47/200\n",
            "\u001b[1m157/157\u001b[0m \u001b[32m━━━━━━━━━━━━━━━━━━━━\u001b[0m\u001b[37m\u001b[0m \u001b[1m1s\u001b[0m 7ms/step - accuracy: 0.9338 - loss: 0.3017 - val_accuracy: 0.9240 - val_loss: 0.3195\n",
            "Epoch 48/200\n",
            "\u001b[1m157/157\u001b[0m \u001b[32m━━━━━━━━━━━━━━━━━━━━\u001b[0m\u001b[37m\u001b[0m \u001b[1m1s\u001b[0m 8ms/step - accuracy: 0.9279 - loss: 0.3090 - val_accuracy: 0.9285 - val_loss: 0.2954\n",
            "Epoch 49/200\n",
            "\u001b[1m157/157\u001b[0m \u001b[32m━━━━━━━━━━━━━━━━━━━━\u001b[0m\u001b[37m\u001b[0m \u001b[1m1s\u001b[0m 8ms/step - accuracy: 0.9301 - loss: 0.2978 - val_accuracy: 0.9300 - val_loss: 0.3013\n",
            "Epoch 50/200\n",
            "\u001b[1m157/157\u001b[0m \u001b[32m━━━━━━━━━━━━━━━━━━━━\u001b[0m\u001b[37m\u001b[0m \u001b[1m2s\u001b[0m 7ms/step - accuracy: 0.9399 - loss: 0.2840 - val_accuracy: 0.9390 - val_loss: 0.2894\n",
            "Epoch 51/200\n",
            "\u001b[1m157/157\u001b[0m \u001b[32m━━━━━━━━━━━━━━━━━━━━\u001b[0m\u001b[37m\u001b[0m \u001b[1m1s\u001b[0m 7ms/step - accuracy: 0.9311 - loss: 0.2907 - val_accuracy: 0.9245 - val_loss: 0.3169\n",
            "Epoch 52/200\n",
            "\u001b[1m157/157\u001b[0m \u001b[32m━━━━━━━━━━━━━━━━━━━━\u001b[0m\u001b[37m\u001b[0m \u001b[1m1s\u001b[0m 7ms/step - accuracy: 0.9335 - loss: 0.2880 - val_accuracy: 0.9325 - val_loss: 0.3019\n",
            "Epoch 53/200\n",
            "\u001b[1m157/157\u001b[0m \u001b[32m━━━━━━━━━━━━━━━━━━━━\u001b[0m\u001b[37m\u001b[0m \u001b[1m1s\u001b[0m 7ms/step - accuracy: 0.9356 - loss: 0.2862 - val_accuracy: 0.9370 - val_loss: 0.2819\n",
            "Epoch 54/200\n",
            "\u001b[1m157/157\u001b[0m \u001b[32m━━━━━━━━━━━━━━━━━━━━\u001b[0m\u001b[37m\u001b[0m \u001b[1m1s\u001b[0m 7ms/step - accuracy: 0.9328 - loss: 0.2866 - val_accuracy: 0.8995 - val_loss: 0.3843\n",
            "Epoch 55/200\n",
            "\u001b[1m157/157\u001b[0m \u001b[32m━━━━━━━━━━━━━━━━━━━━\u001b[0m\u001b[37m\u001b[0m \u001b[1m1s\u001b[0m 7ms/step - accuracy: 0.9344 - loss: 0.2832 - val_accuracy: 0.9360 - val_loss: 0.2912\n",
            "Epoch 56/200\n",
            "\u001b[1m157/157\u001b[0m \u001b[32m━━━━━━━━━━━━━━━━━━━━\u001b[0m\u001b[37m\u001b[0m \u001b[1m1s\u001b[0m 7ms/step - accuracy: 0.9331 - loss: 0.3006 - val_accuracy: 0.9225 - val_loss: 0.3172\n",
            "Epoch 57/200\n",
            "\u001b[1m157/157\u001b[0m \u001b[32m━━━━━━━━━━━━━━━━━━━━\u001b[0m\u001b[37m\u001b[0m \u001b[1m1s\u001b[0m 8ms/step - accuracy: 0.9281 - loss: 0.3027 - val_accuracy: 0.9340 - val_loss: 0.2941\n",
            "Epoch 58/200\n",
            "\u001b[1m157/157\u001b[0m \u001b[32m━━━━━━━━━━━━━━━━━━━━\u001b[0m\u001b[37m\u001b[0m \u001b[1m1s\u001b[0m 8ms/step - accuracy: 0.9308 - loss: 0.3015 - val_accuracy: 0.9295 - val_loss: 0.3059\n",
            "Epoch 59/200\n",
            "\u001b[1m157/157\u001b[0m \u001b[32m━━━━━━━━━━━━━━━━━━━━\u001b[0m\u001b[37m\u001b[0m \u001b[1m2s\u001b[0m 7ms/step - accuracy: 0.9337 - loss: 0.2955 - val_accuracy: 0.9325 - val_loss: 0.2910\n",
            "Epoch 60/200\n",
            "\u001b[1m157/157\u001b[0m \u001b[32m━━━━━━━━━━━━━━━━━━━━\u001b[0m\u001b[37m\u001b[0m \u001b[1m1s\u001b[0m 7ms/step - accuracy: 0.9415 - loss: 0.2812 - val_accuracy: 0.9330 - val_loss: 0.2941\n",
            "Epoch 61/200\n",
            "\u001b[1m157/157\u001b[0m \u001b[32m━━━━━━━━━━━━━━━━━━━━\u001b[0m\u001b[37m\u001b[0m \u001b[1m1s\u001b[0m 7ms/step - accuracy: 0.9271 - loss: 0.2984 - val_accuracy: 0.9360 - val_loss: 0.2992\n",
            "Epoch 62/200\n",
            "\u001b[1m157/157\u001b[0m \u001b[32m━━━━━━━━━━━━━━━━━━━━\u001b[0m\u001b[37m\u001b[0m \u001b[1m1s\u001b[0m 7ms/step - accuracy: 0.9377 - loss: 0.2867 - val_accuracy: 0.9330 - val_loss: 0.3075\n",
            "Epoch 63/200\n",
            "\u001b[1m157/157\u001b[0m \u001b[32m━━━━━━━━━━━━━━━━━━━━\u001b[0m\u001b[37m\u001b[0m \u001b[1m1s\u001b[0m 7ms/step - accuracy: 0.9373 - loss: 0.2800 - val_accuracy: 0.9375 - val_loss: 0.2902\n",
            "Epoch 64/200\n",
            "\u001b[1m157/157\u001b[0m \u001b[32m━━━━━━━━━━━━━━━━━━━━\u001b[0m\u001b[37m\u001b[0m \u001b[1m1s\u001b[0m 7ms/step - accuracy: 0.9386 - loss: 0.2768 - val_accuracy: 0.9325 - val_loss: 0.2941\n",
            "Epoch 65/200\n",
            "\u001b[1m157/157\u001b[0m \u001b[32m━━━━━━━━━━━━━━━━━━━━\u001b[0m\u001b[37m\u001b[0m \u001b[1m1s\u001b[0m 7ms/step - accuracy: 0.9353 - loss: 0.2945 - val_accuracy: 0.9305 - val_loss: 0.2966\n",
            "Epoch 66/200\n",
            "\u001b[1m157/157\u001b[0m \u001b[32m━━━━━━━━━━━━━━━━━━━━\u001b[0m\u001b[37m\u001b[0m \u001b[1m1s\u001b[0m 8ms/step - accuracy: 0.9375 - loss: 0.2805 - val_accuracy: 0.9320 - val_loss: 0.3124\n",
            "Epoch 67/200\n",
            "\u001b[1m157/157\u001b[0m \u001b[32m━━━━━━━━━━━━━━━━━━━━\u001b[0m\u001b[37m\u001b[0m \u001b[1m2s\u001b[0m 7ms/step - accuracy: 0.9385 - loss: 0.2844 - val_accuracy: 0.9415 - val_loss: 0.2865\n",
            "Epoch 68/200\n",
            "\u001b[1m157/157\u001b[0m \u001b[32m━━━━━━━━━━━━━━━━━━━━\u001b[0m\u001b[37m\u001b[0m \u001b[1m1s\u001b[0m 7ms/step - accuracy: 0.9413 - loss: 0.2732 - val_accuracy: 0.9390 - val_loss: 0.2837\n",
            "Epoch 69/200\n",
            "\u001b[1m157/157\u001b[0m \u001b[32m━━━━━━━━━━━━━━━━━━━━\u001b[0m\u001b[37m\u001b[0m \u001b[1m1s\u001b[0m 7ms/step - accuracy: 0.9420 - loss: 0.2827 - val_accuracy: 0.9295 - val_loss: 0.3033\n",
            "Epoch 70/200\n",
            "\u001b[1m157/157\u001b[0m \u001b[32m━━━━━━━━━━━━━━━━━━━━\u001b[0m\u001b[37m\u001b[0m \u001b[1m1s\u001b[0m 7ms/step - accuracy: 0.9357 - loss: 0.2800 - val_accuracy: 0.9335 - val_loss: 0.2917\n",
            "Epoch 71/200\n",
            "\u001b[1m157/157\u001b[0m \u001b[32m━━━━━━━━━━━━━━━━━━━━\u001b[0m\u001b[37m\u001b[0m \u001b[1m1s\u001b[0m 7ms/step - accuracy: 0.9385 - loss: 0.2793 - val_accuracy: 0.9250 - val_loss: 0.3155\n",
            "Epoch 72/200\n",
            "\u001b[1m157/157\u001b[0m \u001b[32m━━━━━━━━━━━━━━━━━━━━\u001b[0m\u001b[37m\u001b[0m \u001b[1m1s\u001b[0m 7ms/step - accuracy: 0.9395 - loss: 0.2819 - val_accuracy: 0.9195 - val_loss: 0.3395\n",
            "Epoch 73/200\n",
            "\u001b[1m157/157\u001b[0m \u001b[32m━━━━━━━━━━━━━━━━━━━━\u001b[0m\u001b[37m\u001b[0m \u001b[1m1s\u001b[0m 7ms/step - accuracy: 0.9415 - loss: 0.2753 - val_accuracy: 0.9350 - val_loss: 0.2893\n",
            "Epoch 74/200\n",
            "\u001b[1m157/157\u001b[0m \u001b[32m━━━━━━━━━━━━━━━━━━━━\u001b[0m\u001b[37m\u001b[0m \u001b[1m1s\u001b[0m 7ms/step - accuracy: 0.9443 - loss: 0.2728 - val_accuracy: 0.9475 - val_loss: 0.2760\n",
            "Epoch 75/200\n",
            "\u001b[1m157/157\u001b[0m \u001b[32m━━━━━━━━━━━━━━━━━━━━\u001b[0m\u001b[37m\u001b[0m \u001b[1m1s\u001b[0m 8ms/step - accuracy: 0.9408 - loss: 0.2782 - val_accuracy: 0.9315 - val_loss: 0.3001\n",
            "Epoch 76/200\n",
            "\u001b[1m157/157\u001b[0m \u001b[32m━━━━━━━━━━━━━━━━━━━━\u001b[0m\u001b[37m\u001b[0m \u001b[1m1s\u001b[0m 7ms/step - accuracy: 0.9411 - loss: 0.2775 - val_accuracy: 0.9360 - val_loss: 0.3039\n",
            "Epoch 77/200\n",
            "\u001b[1m157/157\u001b[0m \u001b[32m━━━━━━━━━━━━━━━━━━━━\u001b[0m\u001b[37m\u001b[0m \u001b[1m1s\u001b[0m 7ms/step - accuracy: 0.9354 - loss: 0.2855 - val_accuracy: 0.9375 - val_loss: 0.2917\n",
            "Epoch 78/200\n",
            "\u001b[1m157/157\u001b[0m \u001b[32m━━━━━━━━━━━━━━━━━━━━\u001b[0m\u001b[37m\u001b[0m \u001b[1m1s\u001b[0m 7ms/step - accuracy: 0.9389 - loss: 0.2907 - val_accuracy: 0.9265 - val_loss: 0.3207\n",
            "Epoch 79/200\n",
            "\u001b[1m157/157\u001b[0m \u001b[32m━━━━━━━━━━━━━━━━━━━━\u001b[0m\u001b[37m\u001b[0m \u001b[1m1s\u001b[0m 7ms/step - accuracy: 0.9410 - loss: 0.2841 - val_accuracy: 0.9355 - val_loss: 0.2988\n",
            "Epoch 80/200\n",
            "\u001b[1m157/157\u001b[0m \u001b[32m━━━━━━━━━━━━━━━━━━━━\u001b[0m\u001b[37m\u001b[0m \u001b[1m1s\u001b[0m 7ms/step - accuracy: 0.9428 - loss: 0.2781 - val_accuracy: 0.9405 - val_loss: 0.2784\n",
            "Epoch 81/200\n",
            "\u001b[1m157/157\u001b[0m \u001b[32m━━━━━━━━━━━━━━━━━━━━\u001b[0m\u001b[37m\u001b[0m \u001b[1m1s\u001b[0m 7ms/step - accuracy: 0.9409 - loss: 0.2748 - val_accuracy: 0.9270 - val_loss: 0.3206\n",
            "Epoch 82/200\n",
            "\u001b[1m157/157\u001b[0m \u001b[32m━━━━━━━━━━━━━━━━━━━━\u001b[0m\u001b[37m\u001b[0m \u001b[1m1s\u001b[0m 7ms/step - accuracy: 0.9390 - loss: 0.2812 - val_accuracy: 0.9345 - val_loss: 0.2963\n",
            "Epoch 83/200\n",
            "\u001b[1m157/157\u001b[0m \u001b[32m━━━━━━━━━━━━━━━━━━━━\u001b[0m\u001b[37m\u001b[0m \u001b[1m1s\u001b[0m 7ms/step - accuracy: 0.9437 - loss: 0.2761 - val_accuracy: 0.9375 - val_loss: 0.2822\n",
            "Epoch 84/200\n",
            "\u001b[1m157/157\u001b[0m \u001b[32m━━━━━━━━━━━━━━━━━━━━\u001b[0m\u001b[37m\u001b[0m \u001b[1m1s\u001b[0m 7ms/step - accuracy: 0.9399 - loss: 0.2774 - val_accuracy: 0.9295 - val_loss: 0.3007\n",
            "Epoch 85/200\n",
            "\u001b[1m157/157\u001b[0m \u001b[32m━━━━━━━━━━━━━━━━━━━━\u001b[0m\u001b[37m\u001b[0m \u001b[1m1s\u001b[0m 8ms/step - accuracy: 0.9386 - loss: 0.2805 - val_accuracy: 0.9320 - val_loss: 0.2976\n",
            "Epoch 86/200\n",
            "\u001b[1m157/157\u001b[0m \u001b[32m━━━━━━━━━━━━━━━━━━━━\u001b[0m\u001b[37m\u001b[0m \u001b[1m2s\u001b[0m 7ms/step - accuracy: 0.9449 - loss: 0.2724 - val_accuracy: 0.9395 - val_loss: 0.2897\n",
            "Epoch 87/200\n",
            "\u001b[1m157/157\u001b[0m \u001b[32m━━━━━━━━━━━━━━━━━━━━\u001b[0m\u001b[37m\u001b[0m \u001b[1m1s\u001b[0m 7ms/step - accuracy: 0.9418 - loss: 0.2763 - val_accuracy: 0.9350 - val_loss: 0.3000\n",
            "Epoch 88/200\n",
            "\u001b[1m157/157\u001b[0m \u001b[32m━━━━━━━━━━━━━━━━━━━━\u001b[0m\u001b[37m\u001b[0m \u001b[1m1s\u001b[0m 7ms/step - accuracy: 0.9406 - loss: 0.2855 - val_accuracy: 0.9335 - val_loss: 0.3060\n",
            "Epoch 89/200\n",
            "\u001b[1m157/157\u001b[0m \u001b[32m━━━━━━━━━━━━━━━━━━━━\u001b[0m\u001b[37m\u001b[0m \u001b[1m1s\u001b[0m 7ms/step - accuracy: 0.9440 - loss: 0.2811 - val_accuracy: 0.9395 - val_loss: 0.2816\n",
            "Epoch 90/200\n",
            "\u001b[1m157/157\u001b[0m \u001b[32m━━━━━━━━━━━━━━━━━━━━\u001b[0m\u001b[37m\u001b[0m \u001b[1m2s\u001b[0m 10ms/step - accuracy: 0.9464 - loss: 0.2651 - val_accuracy: 0.9380 - val_loss: 0.2895\n",
            "Epoch 91/200\n",
            "\u001b[1m157/157\u001b[0m \u001b[32m━━━━━━━━━━━━━━━━━━━━\u001b[0m\u001b[37m\u001b[0m \u001b[1m2s\u001b[0m 7ms/step - accuracy: 0.9433 - loss: 0.2653 - val_accuracy: 0.9360 - val_loss: 0.2957\n",
            "Epoch 92/200\n",
            "\u001b[1m157/157\u001b[0m \u001b[32m━━━━━━━━━━━━━━━━━━━━\u001b[0m\u001b[37m\u001b[0m \u001b[1m1s\u001b[0m 8ms/step - accuracy: 0.9483 - loss: 0.2609 - val_accuracy: 0.9435 - val_loss: 0.2820\n",
            "Epoch 93/200\n",
            "\u001b[1m157/157\u001b[0m \u001b[32m━━━━━━━━━━━━━━━━━━━━\u001b[0m\u001b[37m\u001b[0m \u001b[1m1s\u001b[0m 8ms/step - accuracy: 0.9464 - loss: 0.2630 - val_accuracy: 0.9310 - val_loss: 0.3028\n",
            "Epoch 94/200\n",
            "\u001b[1m157/157\u001b[0m \u001b[32m━━━━━━━━━━━━━━━━━━━━\u001b[0m\u001b[37m\u001b[0m \u001b[1m2s\u001b[0m 7ms/step - accuracy: 0.9451 - loss: 0.2729 - val_accuracy: 0.9250 - val_loss: 0.3074\n",
            "Epoch 95/200\n",
            "\u001b[1m157/157\u001b[0m \u001b[32m━━━━━━━━━━━━━━━━━━━━\u001b[0m\u001b[37m\u001b[0m \u001b[1m1s\u001b[0m 7ms/step - accuracy: 0.9434 - loss: 0.2718 - val_accuracy: 0.9325 - val_loss: 0.2995\n",
            "Epoch 96/200\n",
            "\u001b[1m157/157\u001b[0m \u001b[32m━━━━━━━━━━━━━━━━━━━━\u001b[0m\u001b[37m\u001b[0m \u001b[1m1s\u001b[0m 7ms/step - accuracy: 0.9455 - loss: 0.2684 - val_accuracy: 0.9405 - val_loss: 0.2875\n",
            "Epoch 97/200\n",
            "\u001b[1m157/157\u001b[0m \u001b[32m━━━━━━━━━━━━━━━━━━━━\u001b[0m\u001b[37m\u001b[0m \u001b[1m1s\u001b[0m 7ms/step - accuracy: 0.9398 - loss: 0.2747 - val_accuracy: 0.9365 - val_loss: 0.2933\n",
            "Epoch 98/200\n",
            "\u001b[1m157/157\u001b[0m \u001b[32m━━━━━━━━━━━━━━━━━━━━\u001b[0m\u001b[37m\u001b[0m \u001b[1m1s\u001b[0m 7ms/step - accuracy: 0.9414 - loss: 0.2766 - val_accuracy: 0.9345 - val_loss: 0.2932\n",
            "Epoch 99/200\n",
            "\u001b[1m157/157\u001b[0m \u001b[32m━━━━━━━━━━━━━━━━━━━━\u001b[0m\u001b[37m\u001b[0m \u001b[1m1s\u001b[0m 7ms/step - accuracy: 0.9386 - loss: 0.2847 - val_accuracy: 0.9335 - val_loss: 0.2921\n"
          ]
        }
      ],
      "execution_count": 19
    },
    {
      "metadata": {
        "id": "292b845b9c453dd6"
      },
      "cell_type": "markdown",
      "source": [
        "# Visualize training results"
      ],
      "id": "292b845b9c453dd6"
    },
    {
      "metadata": {
        "colab": {
          "base_uri": "https://localhost:8080/",
          "height": 699
        },
        "id": "20a13815da6dbb31",
        "outputId": "2e87d542-6992-4bf7-e4fe-fa63223b07a9"
      },
      "cell_type": "code",
      "source": [
        "# get the values to graph\n",
        "acc = history.history['accuracy']\n",
        "val_acc = history.history['val_accuracy']\n",
        "\n",
        "loss = history.history['loss']\n",
        "val_loss = history.history['val_loss']\n",
        "\n",
        "epochs_range = range(len(history.history['val_accuracy']))\n",
        "\n",
        "# create the graphs\n",
        "plt.figure(figsize=(8, 8))\n",
        "\n",
        "plt.subplot(1, 2, 1)\n",
        "plt.plot(epochs_range, acc, label='Training Accuracy')\n",
        "plt.plot(epochs_range, val_acc, label='Validation Accuracy')\n",
        "plt.legend(loc='lower right')\n",
        "plt.title('Training and Validation Accuracy')\n",
        "\n",
        "plt.subplot(1, 2, 2)\n",
        "plt.plot(epochs_range, loss, label='Training Loss')\n",
        "plt.plot(epochs_range, val_loss, label='Validation Loss')\n",
        "plt.legend(loc='upper right')\n",
        "plt.title('Training and Validation Loss')\n",
        "plt.show()"
      ],
      "id": "20a13815da6dbb31",
      "outputs": [
        {
          "output_type": "display_data",
          "data": {
            "text/plain": [
              "<Figure size 800x800 with 2 Axes>"
            ],
            "image/png": "[encoded data removed]"
          },
          "metadata": {}
        }
      ],
      "execution_count": 20
    },
    {
      "metadata": {
        "id": "804c4905cf7d688c"
      },
      "cell_type": "markdown",
      "source": [
        "We can see that the model learned to classify images, and it is not overfitted."
      ],
      "id": "804c4905cf7d688c"
    },
    {
      "cell_type": "code",
      "source": [
        "from sklearn.metrics import roc_auc_score, roc_curve\n",
        "\n",
        "\n",
        "# calculate the proba predicts\n",
        "y_proba = model.predict(X_test).flatten()\n",
        "\n",
        "# calculate the AUC score\n",
        "auc_score = roc_auc_score(y_test, y_proba)\n",
        "print(f\"AUC Score: {auc_score:.4f}\")\n",
        "\n",
        "# graph the AUC plot\n",
        "fpr, tpr, thresholds = roc_curve(y_test, y_proba)\n",
        "\n",
        "plt.figure(figsize=(8, 6))\n",
        "plt.plot(fpr, tpr, label=f'ROC Curve (AUC = {auc_score:.4f})')\n",
        "plt.plot([0, 1], [0, 1], 'k--', label='Random')\n",
        "plt.xlabel('False Positive Rate')\n",
        "plt.ylabel('True Positive Rate')\n",
        "plt.title('ROC Curve: Airplane Vs Ship')\n",
        "plt.legend()\n",
        "plt.grid(True)\n",
        "plt.show()"
      ],
      "metadata": {
        "id": "60eBeJbVk_iH",
        "outputId": "2af4530f-4e6b-4784-8028-25fa68cc4b55",
        "colab": {
          "base_uri": "https://localhost:8080/",
          "height": 599
        }
      },
      "id": "60eBeJbVk_iH",
      "execution_count": 21,
      "outputs": [
        {
          "output_type": "stream",
          "name": "stdout",
          "text": [
            "\u001b[1m63/63\u001b[0m \u001b[32m━━━━━━━━━━━━━━━━━━━━\u001b[0m\u001b[37m\u001b[0m \u001b[1m1s\u001b[0m 7ms/step\n",
            "AUC Score: 0.9870\n"
          ]
        },
        {
          "output_type": "display_data",
          "data": {
            "text/plain": [
              "<Figure size 800x600 with 1 Axes>"
            ],
            "image/png": "[encoded data removed]"
          },
          "metadata": {}
        }
      ]
    },
    {
      "cell_type": "markdown",
      "source": [
        "The model has a good accuracy and AUC score and is not overfitted. The model created is \"optimized\" and not a base model because practicing with the cat vs. dogs dataset this was the model that at some point it actually learned something but not repeatedly."
      ],
      "metadata": {
        "id": "MexU-3N3lTrv"
      },
      "id": "MexU-3N3lTrv"
    },
    {
      "metadata": {
        "id": "3c1eab06ce98ffd"
      },
      "cell_type": "markdown",
      "source": [
        "# Save the model"
      ],
      "id": "3c1eab06ce98ffd"
    },
    {
      "metadata": {
        "id": "a8895f2daad73140"
      },
      "cell_type": "code",
      "source": [
        "model.save(f'base_model.keras')"
      ],
      "id": "a8895f2daad73140",
      "outputs": [],
      "execution_count": 22
    },
    {
      "metadata": {
        "id": "1e8fe6b1b1835ec9"
      },
      "cell_type": "markdown",
      "source": [
        "Now clear the memory to continue working"
      ],
      "id": "1e8fe6b1b1835ec9"
    },
    {
      "metadata": {
        "id": "3dc71c20cd4cd157"
      },
      "cell_type": "code",
      "source": [
        "from keras.src.backend.common.global_state import clear_session\n",
        "\n",
        "clear_session(\n",
        "    free_memory=True\n",
        ")"
      ],
      "id": "3dc71c20cd4cd157",
      "outputs": [],
      "execution_count": 23
    }
  ],
  "metadata": {
    "kernelspec": {
      "display_name": "Python 3",
      "name": "python3"
    },
    "language_info": {
      "codemirror_mode": {
        "name": "ipython",
        "version": 3
      },
      "file_extension": ".py",
      "mimetype": "text/x-python",
      "name": "python",
      "nbconvert_exporter": "python",
      "pygments_lexer": "ipython3",
      "version": "3.11.12"
    },
    "colab": {
      "provenance": [],
      "gpuType": "T4"
    },
    "accelerator": "GPU"
  },
  "nbformat": 4,
  "nbformat_minor": 5
}